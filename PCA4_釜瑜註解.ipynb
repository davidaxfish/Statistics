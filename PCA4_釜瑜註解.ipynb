{
 "cells": [
  {
   "cell_type": "code",
   "execution_count": 1,
   "metadata": {},
   "outputs": [
    {
     "name": "stderr",
     "output_type": "stream",
     "text": [
      "In C:\\Users\\E2118\\Anaconda3\\lib\\site-packages\\matplotlib\\mpl-data\\stylelib\\_classic_test.mplstyle: \n",
      "The text.latex.unicode rcparam was deprecated in Matplotlib 3.0 and will be removed in 3.2.\n",
      "In C:\\Users\\E2118\\Anaconda3\\lib\\site-packages\\matplotlib\\mpl-data\\stylelib\\_classic_test.mplstyle: \n",
      "The savefig.frameon rcparam was deprecated in Matplotlib 3.1 and will be removed in 3.3.\n",
      "In C:\\Users\\E2118\\Anaconda3\\lib\\site-packages\\matplotlib\\mpl-data\\stylelib\\_classic_test.mplstyle: \n",
      "The pgf.debug rcparam was deprecated in Matplotlib 3.0 and will be removed in 3.2.\n",
      "In C:\\Users\\E2118\\Anaconda3\\lib\\site-packages\\matplotlib\\mpl-data\\stylelib\\_classic_test.mplstyle: \n",
      "The verbose.level rcparam was deprecated in Matplotlib 3.1 and will be removed in 3.3.\n",
      "In C:\\Users\\E2118\\Anaconda3\\lib\\site-packages\\matplotlib\\mpl-data\\stylelib\\_classic_test.mplstyle: \n",
      "The verbose.fileo rcparam was deprecated in Matplotlib 3.1 and will be removed in 3.3.\n"
     ]
    }
   ],
   "source": [
    "import pandas as pd\n",
    "import math \n",
    "import sklearn\n",
    "import numpy\n",
    "from sklearn.preprocessing import StandardScaler\n",
    "from sklearn.decomposition import PCA\n",
    " \n",
    "import matplotlib.pyplot as plt\n",
    "import seaborn as sns\n",
    "sns.set(style=\"darkgrid\")"
   ]
  },
  {
   "cell_type": "code",
   "execution_count": 4,
   "metadata": {},
   "outputs": [],
   "source": [
    "\n",
    "f = open(r'A:\\Users\\E2118\\Documents\\鄭景元\\3D\\109-鄭景元-畢業光碟\\圖表\\第四章\\單目標最佳化\\衝擊\\L9_衝擊 J.csv')\n",
    " \n",
    "df = pd.read_csv(f)\n",
    "df['SN'] = 0\n"
   ]
  },
  {
   "cell_type": "code",
   "execution_count": 8,
   "metadata": {},
   "outputs": [
    {
     "name": "stdout",
     "output_type": "stream",
     "text": [
      "   編號         X1         X2         X3  SN\n",
      "0   1  85.083006  83.658022  80.820625   0\n",
      "1   2  73.805499  73.805499  73.805499   0\n",
      "2   3  64.193252  57.494370  61.496070   0\n",
      "3   4  65.550350  71.033039  69.654430   0\n",
      "4   5  79.408429  79.408429  76.597579   0\n",
      "5   6  73.805499  71.033039  69.654430   0\n",
      "6   7  79.408429  78.000711  79.408429   0\n",
      "7   8  76.597579  75.199140  73.805499   0\n",
      "8   9  78.000711  80.820625  73.805499   0\n"
     ]
    }
   ],
   "source": [
    "print(df)"
   ]
  },
  {
   "cell_type": "code",
   "execution_count": 9,
   "metadata": {},
   "outputs": [],
   "source": [
    "df['SN'] = 0\n"
   ]
  },
  {
   "cell_type": "code",
   "execution_count": 10,
   "metadata": {},
   "outputs": [],
   "source": [
    "\n",
    "df['SN'] = df.apply(lambda x: (-10*math.log10((1/(x['X1'])**2 + 1/(x['X2'])**2 + 1/(x['X3'])**2)/3)) if x['X3'] > 0\n",
    "                      else (-10*math.log10((1/(x['X1'])**2 + 1/(x['X2'])**2 )/2)), axis=1) "
   ]
  },
  {
   "cell_type": "code",
   "execution_count": 11,
   "metadata": {},
   "outputs": [],
   "source": [
    "df['A'] = [1,1,1,2,2,2,3,3,3]\n",
    "df['B'] = [1,2,3,3,1,2,2,3,1]\n",
    "df['C'] = [1,2,3,2,3,1,3,1,2]\n",
    "df['D'] = [1,2,3,1,2,3,1,2,3]\n"
   ]
  },
  {
   "cell_type": "code",
   "execution_count": 8,
   "metadata": {},
   "outputs": [
    {
     "data": {
      "text/html": [
       "<div>\n",
       "<style scoped>\n",
       "    .dataframe tbody tr th:only-of-type {\n",
       "        vertical-align: middle;\n",
       "    }\n",
       "\n",
       "    .dataframe tbody tr th {\n",
       "        vertical-align: top;\n",
       "    }\n",
       "\n",
       "    .dataframe thead th {\n",
       "        text-align: right;\n",
       "    }\n",
       "</style>\n",
       "<table border=\"1\" class=\"dataframe\">\n",
       "  <thead>\n",
       "    <tr style=\"text-align: right;\">\n",
       "      <th></th>\n",
       "      <th>A</th>\n",
       "      <th>B</th>\n",
       "      <th>C</th>\n",
       "      <th>D</th>\n",
       "      <th>編號</th>\n",
       "      <th>X1</th>\n",
       "      <th>X2</th>\n",
       "      <th>X3</th>\n",
       "      <th>SN</th>\n",
       "    </tr>\n",
       "  </thead>\n",
       "  <tbody>\n",
       "    <tr>\n",
       "      <th>0</th>\n",
       "      <td>1</td>\n",
       "      <td>1</td>\n",
       "      <td>1</td>\n",
       "      <td>1</td>\n",
       "      <td>1</td>\n",
       "      <td>85.083006</td>\n",
       "      <td>83.658022</td>\n",
       "      <td>80.820625</td>\n",
       "      <td>38.395156</td>\n",
       "    </tr>\n",
       "    <tr>\n",
       "      <th>1</th>\n",
       "      <td>1</td>\n",
       "      <td>2</td>\n",
       "      <td>2</td>\n",
       "      <td>2</td>\n",
       "      <td>2</td>\n",
       "      <td>73.805499</td>\n",
       "      <td>73.805499</td>\n",
       "      <td>73.805499</td>\n",
       "      <td>37.361774</td>\n",
       "    </tr>\n",
       "    <tr>\n",
       "      <th>2</th>\n",
       "      <td>1</td>\n",
       "      <td>3</td>\n",
       "      <td>3</td>\n",
       "      <td>3</td>\n",
       "      <td>3</td>\n",
       "      <td>64.193252</td>\n",
       "      <td>57.494370</td>\n",
       "      <td>61.496070</td>\n",
       "      <td>35.688420</td>\n",
       "    </tr>\n",
       "    <tr>\n",
       "      <th>3</th>\n",
       "      <td>2</td>\n",
       "      <td>3</td>\n",
       "      <td>2</td>\n",
       "      <td>1</td>\n",
       "      <td>4</td>\n",
       "      <td>65.550350</td>\n",
       "      <td>71.033039</td>\n",
       "      <td>69.654430</td>\n",
       "      <td>36.729619</td>\n",
       "    </tr>\n",
       "    <tr>\n",
       "      <th>4</th>\n",
       "      <td>2</td>\n",
       "      <td>1</td>\n",
       "      <td>3</td>\n",
       "      <td>2</td>\n",
       "      <td>5</td>\n",
       "      <td>79.408429</td>\n",
       "      <td>79.408429</td>\n",
       "      <td>76.597579</td>\n",
       "      <td>37.890462</td>\n",
       "    </tr>\n",
       "    <tr>\n",
       "      <th>5</th>\n",
       "      <td>2</td>\n",
       "      <td>2</td>\n",
       "      <td>1</td>\n",
       "      <td>3</td>\n",
       "      <td>6</td>\n",
       "      <td>73.805499</td>\n",
       "      <td>71.033039</td>\n",
       "      <td>69.654430</td>\n",
       "      <td>37.078331</td>\n",
       "    </tr>\n",
       "    <tr>\n",
       "      <th>6</th>\n",
       "      <td>3</td>\n",
       "      <td>2</td>\n",
       "      <td>3</td>\n",
       "      <td>1</td>\n",
       "      <td>7</td>\n",
       "      <td>79.408429</td>\n",
       "      <td>78.000711</td>\n",
       "      <td>79.408429</td>\n",
       "      <td>37.944925</td>\n",
       "    </tr>\n",
       "    <tr>\n",
       "      <th>7</th>\n",
       "      <td>3</td>\n",
       "      <td>3</td>\n",
       "      <td>1</td>\n",
       "      <td>2</td>\n",
       "      <td>8</td>\n",
       "      <td>76.597579</td>\n",
       "      <td>75.199140</td>\n",
       "      <td>73.805499</td>\n",
       "      <td>37.521448</td>\n",
       "    </tr>\n",
       "    <tr>\n",
       "      <th>8</th>\n",
       "      <td>3</td>\n",
       "      <td>1</td>\n",
       "      <td>2</td>\n",
       "      <td>3</td>\n",
       "      <td>9</td>\n",
       "      <td>78.000711</td>\n",
       "      <td>80.820625</td>\n",
       "      <td>73.805499</td>\n",
       "      <td>37.772537</td>\n",
       "    </tr>\n",
       "  </tbody>\n",
       "</table>\n",
       "</div>"
      ],
      "text/plain": [
       "   A  B  C  D  編號         X1         X2         X3         SN\n",
       "0  1  1  1  1   1  85.083006  83.658022  80.820625  38.395156\n",
       "1  1  2  2  2   2  73.805499  73.805499  73.805499  37.361774\n",
       "2  1  3  3  3   3  64.193252  57.494370  61.496070  35.688420\n",
       "3  2  3  2  1   4  65.550350  71.033039  69.654430  36.729619\n",
       "4  2  1  3  2   5  79.408429  79.408429  76.597579  37.890462\n",
       "5  2  2  1  3   6  73.805499  71.033039  69.654430  37.078331\n",
       "6  3  2  3  1   7  79.408429  78.000711  79.408429  37.944925\n",
       "7  3  3  1  2   8  76.597579  75.199140  73.805499  37.521448\n",
       "8  3  1  2  3   9  78.000711  80.820625  73.805499  37.772537"
      ]
     },
     "execution_count": 8,
     "metadata": {},
     "output_type": "execute_result"
    }
   ],
   "source": [
    "df = df[['A','B','C','D','編號','X1','X2','X3','SN']]\n",
    "df.to_excel(r'A:\\Users\\E2118\\Documents\\鄭景元\\3D\\python\\衝擊強度SNJJ.xls')\n",
    "df"
   ]
  },
  {
   "cell_type": "code",
   "execution_count": 12,
   "metadata": {},
   "outputs": [],
   "source": [
    "\n",
    "seA = df.groupby(\"A\").SN.mean()\n",
    "dfAA = seA.to_frame()\n",
    "dfA = dfAA.T\n",
    "dfA.columns = ['level1', 'level2', 'level3']\n",
    "dfA.index = ['A']\n",
    "##\n",
    "seB = df.groupby(\"B\").SN.mean()\n",
    "dfBB = seB.to_frame()\n",
    "dfB = dfBB.T\n",
    "dfB.columns = ['level1', 'level2', 'level3']\n",
    "dfB.index = ['B']\n",
    "##\n",
    "seC = df.groupby(\"C\").SN.mean()\n",
    "dfCC = seC.to_frame()\n",
    "dfC = dfCC.T\n",
    "dfC.columns = ['level1', 'level2', 'level3']\n",
    "dfC.index = ['C']\n",
    "##\n",
    "seD = df.groupby(\"D\").SN.mean()\n",
    "dfDD = seD.to_frame()\n",
    "dfD = dfDD.T\n",
    "dfD.columns = ['level1', 'level2', 'level3']\n",
    "dfD.index = ['D']\n",
    "\n",
    "\n"
   ]
  },
  {
   "cell_type": "code",
   "execution_count": 10,
   "metadata": {},
   "outputs": [
    {
     "data": {
      "text/html": [
       "<div>\n",
       "<style scoped>\n",
       "    .dataframe tbody tr th:only-of-type {\n",
       "        vertical-align: middle;\n",
       "    }\n",
       "\n",
       "    .dataframe tbody tr th {\n",
       "        vertical-align: top;\n",
       "    }\n",
       "\n",
       "    .dataframe thead th {\n",
       "        text-align: right;\n",
       "    }\n",
       "</style>\n",
       "<table border=\"1\" class=\"dataframe\">\n",
       "  <thead>\n",
       "    <tr style=\"text-align: right;\">\n",
       "      <th></th>\n",
       "      <th>level1</th>\n",
       "      <th>level2</th>\n",
       "      <th>level3</th>\n",
       "    </tr>\n",
       "  </thead>\n",
       "  <tbody>\n",
       "    <tr>\n",
       "      <th>B</th>\n",
       "      <td>38.019385</td>\n",
       "      <td>37.461677</td>\n",
       "      <td>36.646496</td>\n",
       "    </tr>\n",
       "  </tbody>\n",
       "</table>\n",
       "</div>"
      ],
      "text/plain": [
       "      level1     level2     level3\n",
       "B  38.019385  37.461677  36.646496"
      ]
     },
     "execution_count": 10,
     "metadata": {},
     "output_type": "execute_result"
    }
   ],
   "source": [
    "dfB\n"
   ]
  },
  {
   "cell_type": "code",
   "execution_count": 13,
   "metadata": {},
   "outputs": [
    {
     "data": {
      "text/html": [
       "<div>\n",
       "<style scoped>\n",
       "    .dataframe tbody tr th:only-of-type {\n",
       "        vertical-align: middle;\n",
       "    }\n",
       "\n",
       "    .dataframe tbody tr th {\n",
       "        vertical-align: top;\n",
       "    }\n",
       "\n",
       "    .dataframe thead th {\n",
       "        text-align: right;\n",
       "    }\n",
       "</style>\n",
       "<table border=\"1\" class=\"dataframe\">\n",
       "  <thead>\n",
       "    <tr style=\"text-align: right;\">\n",
       "      <th></th>\n",
       "      <th>level1</th>\n",
       "      <th>level2</th>\n",
       "      <th>level3</th>\n",
       "    </tr>\n",
       "  </thead>\n",
       "  <tbody>\n",
       "    <tr>\n",
       "      <th>A</th>\n",
       "      <td>37.148450</td>\n",
       "      <td>37.232804</td>\n",
       "      <td>37.746303</td>\n",
       "    </tr>\n",
       "    <tr>\n",
       "      <th>B</th>\n",
       "      <td>38.019385</td>\n",
       "      <td>37.461677</td>\n",
       "      <td>36.646496</td>\n",
       "    </tr>\n",
       "    <tr>\n",
       "      <th>C</th>\n",
       "      <td>37.664978</td>\n",
       "      <td>37.287977</td>\n",
       "      <td>37.174602</td>\n",
       "    </tr>\n",
       "    <tr>\n",
       "      <th>D</th>\n",
       "      <td>37.689900</td>\n",
       "      <td>37.591228</td>\n",
       "      <td>36.846429</td>\n",
       "    </tr>\n",
       "  </tbody>\n",
       "</table>\n",
       "</div>"
      ],
      "text/plain": [
       "      level1     level2     level3\n",
       "A  37.148450  37.232804  37.746303\n",
       "B  38.019385  37.461677  36.646496\n",
       "C  37.664978  37.287977  37.174602\n",
       "D  37.689900  37.591228  36.846429"
      ]
     },
     "execution_count": 13,
     "metadata": {},
     "output_type": "execute_result"
    }
   ],
   "source": [
    "ANOVA = pd.concat([dfA, dfB,dfC,dfD],axis = 0)\n",
    "ANOVA\n"
   ]
  },
  {
   "cell_type": "code",
   "execution_count": null,
   "metadata": {},
   "outputs": [],
   "source": []
  },
  {
   "cell_type": "code",
   "execution_count": 14,
   "metadata": {
    "scrolled": true
   },
   "outputs": [
    {
     "data": {
      "image/png": "[encoded data removed]",
      "text/plain": [
       "<Figure size 1080x288 with 4 Axes>"
      ]
     },
     "metadata": {
      "needs_background": "light"
     },
     "output_type": "display_data"
    }
   ],
   "source": [
    "seA = df.groupby(\"A\").SN.mean()\n",
    "dfAA = seA.to_frame()\n",
    "dfA = dfAA.T\n",
    "dfA.columns = ['A1', 'A2', 'A3']\n",
    "dfA.index = ['SN']\n",
    "##\n",
    "seB = df.groupby(\"B\").SN.mean()\n",
    "dfBB = seB.to_frame()\n",
    "dfB = dfBB.T\n",
    "dfB.columns = ['B1', 'B2', 'B3']\n",
    "dfB.index = ['SN']\n",
    "##\n",
    "seC = df.groupby(\"C\").SN.mean()\n",
    "dfCC = seC.to_frame()\n",
    "dfC = dfCC.T\n",
    "dfC.columns = ['C1', 'C2', 'C3']\n",
    "dfC.index = ['SN']\n",
    "##\n",
    "seD = df.groupby(\"D\").SN.mean()\n",
    "dfDD = seD.to_frame()\n",
    "dfD = dfDD.T\n",
    "dfD.columns = ['D1', 'D2', 'D3']\n",
    "dfD.index = ['SN']\n",
    "ANOVApic = pd.concat([dfA, dfB,dfC,dfD],axis = 1)\n",
    "ANOVA.to_excel(r'A:\\Users\\E2118\\Documents\\鄭景元\\3D\\python\\L9_回應表\\衝擊回應表J.xlsx')\n",
    "#ANOVApic.to_csv(R'A:\\Users\\E2118\\Documents\\鄭景元\\3D\\python\\回應表.csv', index_label='Index_name')\n",
    "ANOVAP = ANOVA.T.plot(kind='line',ylim=(36,38.5),subplots=True,figsize = (15,4),layout=(1,4),sharey=True,xticks=[0,1,2],fontsize = 18,legend = 18)\n",
    "\n"
   ]
  },
  {
   "cell_type": "code",
   "execution_count": 16,
   "metadata": {},
   "outputs": [
    {
     "data": {
      "text/plain": [
       "89.05338957349714"
      ]
     },
     "execution_count": 16,
     "metadata": {},
     "output_type": "execute_result"
    }
   ],
   "source": [
    "ANOVA['max'] =ANOVA.max(axis = 1)\n",
    "M = df.loc[:,'SN'].mean()\n",
    "seANOVA = ANOVA.loc[:,'max']\n",
    "dfANOVA = seANOVA.to_frame()\n",
    "dfANOVA.T\n",
    "Amax = dfANOVA.T.loc['max','A']\n",
    "Bmax = dfANOVA.T.loc['max','B']\n",
    "Cmax = dfANOVA.T.loc['max','C']\n",
    "Dmax = dfANOVA.T.loc['max','D']\n",
    "bestSN = M + (Amax - M) + (Bmax - M) + (Cmax - M) +(Dmax-M)\n",
    "best = (1/(10**(bestSN/-10)))**(0.5)\n",
    "best"
   ]
  },
  {
   "cell_type": "code",
   "execution_count": 17,
   "metadata": {},
   "outputs": [
    {
     "data": {
      "text/html": [
       "<div>\n",
       "<style scoped>\n",
       "    .dataframe tbody tr th:only-of-type {\n",
       "        vertical-align: middle;\n",
       "    }\n",
       "\n",
       "    .dataframe tbody tr th {\n",
       "        vertical-align: top;\n",
       "    }\n",
       "\n",
       "    .dataframe thead th {\n",
       "        text-align: right;\n",
       "    }\n",
       "</style>\n",
       "<table border=\"1\" class=\"dataframe\">\n",
       "  <thead>\n",
       "    <tr style=\"text-align: right;\">\n",
       "      <th></th>\n",
       "      <th>level1</th>\n",
       "      <th>level2</th>\n",
       "      <th>level3</th>\n",
       "      <th>Mean square</th>\n",
       "      <th>F</th>\n",
       "      <th>Contribution(%)</th>\n",
       "    </tr>\n",
       "  </thead>\n",
       "  <tbody>\n",
       "    <tr>\n",
       "      <th>A</th>\n",
       "      <td>37.148450</td>\n",
       "      <td>37.232804</td>\n",
       "      <td>37.746303</td>\n",
       "      <td>0.628226</td>\n",
       "      <td>1.588624</td>\n",
       "      <td>12.174998</td>\n",
       "    </tr>\n",
       "    <tr>\n",
       "      <th>B</th>\n",
       "      <td>38.019385</td>\n",
       "      <td>37.461677</td>\n",
       "      <td>36.646496</td>\n",
       "      <td>2.860382</td>\n",
       "      <td>7.233186</td>\n",
       "      <td>55.434139</td>\n",
       "    </tr>\n",
       "    <tr>\n",
       "      <th>C</th>\n",
       "      <td>37.664978</td>\n",
       "      <td>37.287977</td>\n",
       "      <td>37.174602</td>\n",
       "      <td>0.395453</td>\n",
       "      <td>1.000000</td>\n",
       "      <td>7.663862</td>\n",
       "    </tr>\n",
       "    <tr>\n",
       "      <th>D</th>\n",
       "      <td>37.689900</td>\n",
       "      <td>37.591228</td>\n",
       "      <td>36.846429</td>\n",
       "      <td>1.275905</td>\n",
       "      <td>3.226441</td>\n",
       "      <td>24.727001</td>\n",
       "    </tr>\n",
       "  </tbody>\n",
       "</table>\n",
       "</div>"
      ],
      "text/plain": [
       "      level1     level2     level3  Mean square         F  Contribution(%)\n",
       "A  37.148450  37.232804  37.746303     0.628226  1.588624        12.174998\n",
       "B  38.019385  37.461677  36.646496     2.860382  7.233186        55.434139\n",
       "C  37.664978  37.287977  37.174602     0.395453  1.000000         7.663862\n",
       "D  37.689900  37.591228  36.846429     1.275905  3.226441        24.727001"
      ]
     },
     "execution_count": 17,
     "metadata": {},
     "output_type": "execute_result"
    }
   ],
   "source": [
    "df['Mean square'] = (df['SN']-M)**2\n",
    "meanSQ =  df.loc[:,'Mean square'].sum()\n",
    "meanSQ\n",
    "ANOVA = ANOVA.drop('max', axis = 1)\n",
    "MA = ANOVA.loc['A',:].mean()\n",
    "MB = ANOVA.loc['B',:].mean()\n",
    "MC = ANOVA.loc['C',:].mean()\n",
    "MD = ANOVA.loc['D',:].mean()\n",
    "\n",
    "ANOVA.loc['A','Mean square'] = 3*(ANOVA.loc['A','level1']-MA)**2 + 3*(ANOVA.loc['A','level2']-MA)**2 + 3*(ANOVA.loc['A','level3']-MA)**2\n",
    "ANOVA.loc['B','Mean square'] = 3*(ANOVA.loc['B','level1']-MB)**2 + 3*(ANOVA.loc['B','level2']-MB)**2 + 3*(ANOVA.loc['B','level3']-MB)**2\n",
    "ANOVA.loc['C','Mean square'] = 3*(ANOVA.loc['C','level1']-MC)**2 + 3*(ANOVA.loc['C','level2']-MC)**2 + 3*(ANOVA.loc['C','level3']-MC)**2\n",
    "ANOVA.loc['D','Mean square'] = 3*(ANOVA.loc['D','level1']-MD)**2 + 3*(ANOVA.loc['D','level2']-MD)**2 + 3*(ANOVA.loc['D','level3']-MD)**2\n",
    "R = ANOVA.loc['C','Mean square']\n",
    "ANOVA['F'] = ANOVA.apply(lambda x:(x['Mean square']/2)/(R/2),axis = 1)\n",
    "ANOVA['Contribution(%)'] = ANOVA.apply(lambda x:x['Mean square']/meanSQ*100,axis = 1)\n",
    "ANOVA.to_excel(r'A:\\Users\\E2118\\Documents\\鄭景元\\3D\\python\\L9_回應表\\衝擊回應表n.xlsx')\n",
    "ANOVA"
   ]
  },
  {
   "cell_type": "code",
   "execution_count": 15,
   "metadata": {},
   "outputs": [
    {
     "data": {
      "text/plain": [
       "37.37585249009965"
      ]
     },
     "execution_count": 15,
     "metadata": {},
     "output_type": "execute_result"
    }
   ],
   "source": [
    "MA"
   ]
  },
  {
   "cell_type": "code",
   "execution_count": 18,
   "metadata": {},
   "outputs": [
    {
     "name": "stdout",
     "output_type": "stream",
     "text": [
      "0.10352568868826685 0.11954116846442452\n"
     ]
    }
   ],
   "source": [
    "e1 = 87.94500566 \n",
    "e2 = 87.94500566\n",
    "e3 = 87.94500566\n",
    "\n",
    "e = -10*math.log10((1/(e1)**2 + 1/(e2)**2 + 1/(e3)**2)/3)\n",
    "R = abs( (e - bestSN)/bestSN )\n",
    "CIp = abs(-1.96*(R)**(0.5))\n",
    "\n",
    "CIe = abs(-1.96*((R)**(0.5))*((1+1/3)**(0.5)))\n",
    "print(CIp,CIe)"
   ]
  },
  {
   "cell_type": "code",
   "execution_count": 19,
   "metadata": {},
   "outputs": [
    {
     "data": {
      "text/plain": [
       "38.884223623819565"
      ]
     },
     "execution_count": 19,
     "metadata": {},
     "output_type": "execute_result"
    }
   ],
   "source": [
    "e"
   ]
  },
  {
   "cell_type": "code",
   "execution_count": 20,
   "metadata": {},
   "outputs": [
    {
     "data": {
      "image/png": "[encoded data removed]",
      "text/plain": [
       "<Figure size 432x288 with 1 Axes>"
      ]
     },
     "metadata": {
      "needs_background": "light"
     },
     "output_type": "display_data"
    }
   ],
   "source": [
    "ind = numpy.arange(2)\n",
    "\n",
    "lowbar = 38 # x軸底線位置\n",
    "plt.barh(1,0, left  = lowbar,height= 0.3)\n",
    "plt.barh(4,0, left  = lowbar,height= 0.3)\n",
    "\n",
    "pr = plt.barh(3, bestSN-lowbar,  xerr = CIp,capsize = 10,left  = lowbar,height = 0.8,label =  'Prediction',tick_label='')\n",
    "ex = plt.barh(2, e-lowbar,  xerr = CIe,capsize = 10,left  = lowbar,height = 0.8,label =  'Experiment',align='center')\n",
    "\n",
    "\n",
    "\n",
    "plt.suptitle('Impact Energy Optimization \\n with Confidence Interval', fontsize=18, y=1.04,fontweight='bold')\n",
    "\n",
    "plt.xlabel('S/N Ratio (db)',fontsize=15)\n",
    "plt.xticks(fontsize=15)\n",
    "plt.legend(loc = 0,fontsize=14)\n",
    "\n",
    "\n",
    "plt.show()"
   ]
  },
  {
   "cell_type": "code",
   "execution_count": 22,
   "metadata": {},
   "outputs": [
    {
     "name": "stdout",
     "output_type": "stream",
     "text": [
      "   編號       X1       X2       X3  SN\n",
      "0   1  1023.83  1019.93     0.00   0\n",
      "1   2  1132.67  1137.68  1115.04   0\n",
      "2   3  1067.95  1072.97  1070.27   0\n",
      "3   4  1013.45  1001.89  1004.19   0\n",
      "4   5  1126.41  1145.98  1116.40   0\n",
      "5   6  1051.43  1031.68  1043.29   0\n",
      "6   7   993.43   981.73   964.83   0\n",
      "7   8  1113.13  1099.85     0.00   0\n",
      "8   9  1072.95  1049.92  1070.17   0\n"
     ]
    }
   ],
   "source": [
    "f2 = open(r'A:\\Users\\E2118\\Documents\\鄭景元\\3D\\109-鄭景元-畢業光碟\\圖表\\第四章\\單目標最佳化\\抗拉\\L9_拉伸.csv')\n",
    "\n",
    "df2 = pd.read_csv(f2)\n",
    "df2['SN'] = 0\n",
    "\n",
    "print(df2)"
   ]
  },
  {
   "cell_type": "code",
   "execution_count": 28,
   "metadata": {},
   "outputs": [
    {
     "data": {
      "text/html": [
       "<div>\n",
       "<style scoped>\n",
       "    .dataframe tbody tr th:only-of-type {\n",
       "        vertical-align: middle;\n",
       "    }\n",
       "\n",
       "    .dataframe tbody tr th {\n",
       "        vertical-align: top;\n",
       "    }\n",
       "\n",
       "    .dataframe thead th {\n",
       "        text-align: right;\n",
       "    }\n",
       "</style>\n",
       "<table border=\"1\" class=\"dataframe\">\n",
       "  <thead>\n",
       "    <tr style=\"text-align: right;\">\n",
       "      <th></th>\n",
       "      <th>A</th>\n",
       "      <th>B</th>\n",
       "      <th>C</th>\n",
       "      <th>D</th>\n",
       "      <th>編號</th>\n",
       "      <th>X1</th>\n",
       "      <th>X2</th>\n",
       "      <th>X3</th>\n",
       "      <th>SN</th>\n",
       "    </tr>\n",
       "  </thead>\n",
       "  <tbody>\n",
       "    <tr>\n",
       "      <th>0</th>\n",
       "      <td>1</td>\n",
       "      <td>1</td>\n",
       "      <td>1</td>\n",
       "      <td>1</td>\n",
       "      <td>1</td>\n",
       "      <td>1023.83</td>\n",
       "      <td>1019.93</td>\n",
       "      <td>0.00</td>\n",
       "      <td>60.187951</td>\n",
       "    </tr>\n",
       "    <tr>\n",
       "      <th>1</th>\n",
       "      <td>1</td>\n",
       "      <td>2</td>\n",
       "      <td>2</td>\n",
       "      <td>2</td>\n",
       "      <td>2</td>\n",
       "      <td>1132.67</td>\n",
       "      <td>1137.68</td>\n",
       "      <td>1115.04</td>\n",
       "      <td>61.048778</td>\n",
       "    </tr>\n",
       "    <tr>\n",
       "      <th>2</th>\n",
       "      <td>1</td>\n",
       "      <td>3</td>\n",
       "      <td>3</td>\n",
       "      <td>3</td>\n",
       "      <td>3</td>\n",
       "      <td>1067.95</td>\n",
       "      <td>1072.97</td>\n",
       "      <td>1070.27</td>\n",
       "      <td>60.590847</td>\n",
       "    </tr>\n",
       "    <tr>\n",
       "      <th>3</th>\n",
       "      <td>2</td>\n",
       "      <td>3</td>\n",
       "      <td>2</td>\n",
       "      <td>1</td>\n",
       "      <td>4</td>\n",
       "      <td>1013.45</td>\n",
       "      <td>1001.89</td>\n",
       "      <td>1004.19</td>\n",
       "      <td>60.056042</td>\n",
       "    </tr>\n",
       "    <tr>\n",
       "      <th>4</th>\n",
       "      <td>2</td>\n",
       "      <td>1</td>\n",
       "      <td>3</td>\n",
       "      <td>2</td>\n",
       "      <td>5</td>\n",
       "      <td>1126.41</td>\n",
       "      <td>1145.98</td>\n",
       "      <td>1116.40</td>\n",
       "      <td>61.056935</td>\n",
       "    </tr>\n",
       "    <tr>\n",
       "      <th>5</th>\n",
       "      <td>2</td>\n",
       "      <td>2</td>\n",
       "      <td>1</td>\n",
       "      <td>3</td>\n",
       "      <td>6</td>\n",
       "      <td>1051.43</td>\n",
       "      <td>1031.68</td>\n",
       "      <td>1043.29</td>\n",
       "      <td>60.357676</td>\n",
       "    </tr>\n",
       "    <tr>\n",
       "      <th>6</th>\n",
       "      <td>3</td>\n",
       "      <td>2</td>\n",
       "      <td>3</td>\n",
       "      <td>1</td>\n",
       "      <td>7</td>\n",
       "      <td>993.43</td>\n",
       "      <td>981.73</td>\n",
       "      <td>964.83</td>\n",
       "      <td>59.822615</td>\n",
       "    </tr>\n",
       "    <tr>\n",
       "      <th>7</th>\n",
       "      <td>3</td>\n",
       "      <td>3</td>\n",
       "      <td>1</td>\n",
       "      <td>2</td>\n",
       "      <td>8</td>\n",
       "      <td>1113.13</td>\n",
       "      <td>1099.85</td>\n",
       "      <td>0.00</td>\n",
       "      <td>60.878481</td>\n",
       "    </tr>\n",
       "    <tr>\n",
       "      <th>8</th>\n",
       "      <td>3</td>\n",
       "      <td>1</td>\n",
       "      <td>2</td>\n",
       "      <td>3</td>\n",
       "      <td>9</td>\n",
       "      <td>1072.95</td>\n",
       "      <td>1049.92</td>\n",
       "      <td>1070.17</td>\n",
       "      <td>60.540440</td>\n",
       "    </tr>\n",
       "  </tbody>\n",
       "</table>\n",
       "</div>"
      ],
      "text/plain": [
       "   A  B  C  D  編號       X1       X2       X3         SN\n",
       "0  1  1  1  1   1  1023.83  1019.93     0.00  60.187951\n",
       "1  1  2  2  2   2  1132.67  1137.68  1115.04  61.048778\n",
       "2  1  3  3  3   3  1067.95  1072.97  1070.27  60.590847\n",
       "3  2  3  2  1   4  1013.45  1001.89  1004.19  60.056042\n",
       "4  2  1  3  2   5  1126.41  1145.98  1116.40  61.056935\n",
       "5  2  2  1  3   6  1051.43  1031.68  1043.29  60.357676\n",
       "6  3  2  3  1   7   993.43   981.73   964.83  59.822615\n",
       "7  3  3  1  2   8  1113.13  1099.85     0.00  60.878481\n",
       "8  3  1  2  3   9  1072.95  1049.92  1070.17  60.540440"
      ]
     },
     "execution_count": 28,
     "metadata": {},
     "output_type": "execute_result"
    }
   ],
   "source": [
    "df2['SN'] = df2.apply(lambda x: (-10*math.log10((1/(x['X1'])**2 + 1/(x['X2'])**2 + 1/(x['X3'])**2)/3)) if x['X3'] > 0\n",
    "                      else (-10*math.log10((1/(x['X1'])**2 + 1/(x['X2'])**2 )/2)), axis=1)\n",
    "df2['A'] = [1,1,1,2,2,2,3,3,3]\n",
    "df2['B'] = [1,2,3,3,1,2,2,3,1]\n",
    "df2['C'] = [1,2,3,2,3,1,3,1,2]\n",
    "df2['D'] = [1,2,3,1,2,3,1,2,3]\n",
    "df2 = df2[['A','B','C','D','編號','X1','X2','X3','SN']]\n",
    "#df2.to_excel(r'A:\\Users\\E2118\\Documents\\鄭景元\\3D\\python\\抗拉sn.xlsx')\n",
    "df2"
   ]
  },
  {
   "cell_type": "code",
   "execution_count": 29,
   "metadata": {},
   "outputs": [
    {
     "data": {
      "text/html": [
       "<div>\n",
       "<style scoped>\n",
       "    .dataframe tbody tr th:only-of-type {\n",
       "        vertical-align: middle;\n",
       "    }\n",
       "\n",
       "    .dataframe tbody tr th {\n",
       "        vertical-align: top;\n",
       "    }\n",
       "\n",
       "    .dataframe thead th {\n",
       "        text-align: right;\n",
       "    }\n",
       "</style>\n",
       "<table border=\"1\" class=\"dataframe\">\n",
       "  <thead>\n",
       "    <tr style=\"text-align: right;\">\n",
       "      <th></th>\n",
       "      <th>level1</th>\n",
       "      <th>level2</th>\n",
       "      <th>level3</th>\n",
       "    </tr>\n",
       "  </thead>\n",
       "  <tbody>\n",
       "    <tr>\n",
       "      <th>A</th>\n",
       "      <td>60.609192</td>\n",
       "      <td>60.490218</td>\n",
       "      <td>60.413845</td>\n",
       "    </tr>\n",
       "    <tr>\n",
       "      <th>B</th>\n",
       "      <td>60.595109</td>\n",
       "      <td>60.409690</td>\n",
       "      <td>60.508457</td>\n",
       "    </tr>\n",
       "    <tr>\n",
       "      <th>C</th>\n",
       "      <td>60.474702</td>\n",
       "      <td>60.548420</td>\n",
       "      <td>60.490133</td>\n",
       "    </tr>\n",
       "    <tr>\n",
       "      <th>D</th>\n",
       "      <td>60.022203</td>\n",
       "      <td>60.994731</td>\n",
       "      <td>60.496321</td>\n",
       "    </tr>\n",
       "  </tbody>\n",
       "</table>\n",
       "</div>"
      ],
      "text/plain": [
       "      level1     level2     level3\n",
       "A  60.609192  60.490218  60.413845\n",
       "B  60.595109  60.409690  60.508457\n",
       "C  60.474702  60.548420  60.490133\n",
       "D  60.022203  60.994731  60.496321"
      ]
     },
     "execution_count": 29,
     "metadata": {},
     "output_type": "execute_result"
    }
   ],
   "source": [
    "seA = df2.groupby(\"A\").SN.mean()\n",
    "df2AA = seA.to_frame()\n",
    "df2A = df2AA.T\n",
    "df2A.columns = ['level1', 'level2', 'level3']\n",
    "df2A.index = ['A']\n",
    "##\n",
    "seB = df2.groupby(\"B\").SN.mean()\n",
    "df2BB = seB.to_frame()\n",
    "df2B = df2BB.T\n",
    "df2B.columns = ['level1', 'level2', 'level3']\n",
    "df2B.index = ['B']\n",
    "##\n",
    "seC = df2.groupby(\"C\").SN.mean()\n",
    "df2CC = seC.to_frame()\n",
    "df2C = df2CC.T\n",
    "df2C.columns = ['level1', 'level2', 'level3']\n",
    "df2C.index = ['C']\n",
    "##\n",
    "seD = df2.groupby(\"D\").SN.mean()\n",
    "df2DD = seD.to_frame()\n",
    "df2D = df2DD.T\n",
    "df2D.columns = ['level1', 'level2', 'level3']\n",
    "df2D.index = ['D']\n",
    "ANOVA2 = pd.concat([df2A, df2B,df2C,df2D],axis = 0)\n",
    "ANOVA2"
   ]
  },
  {
   "cell_type": "code",
   "execution_count": 30,
   "metadata": {},
   "outputs": [
    {
     "data": {
      "text/plain": [
       "array([[<matplotlib.axes._subplots.AxesSubplot object at 0x00000266E5F58A58>,\n",
       "        <matplotlib.axes._subplots.AxesSubplot object at 0x00000266E6015C50>,\n",
       "        <matplotlib.axes._subplots.AxesSubplot object at 0x00000266E60C2080>,\n",
       "        <matplotlib.axes._subplots.AxesSubplot object at 0x00000266E60EF208>]],\n",
       "      dtype=object)"
      ]
     },
     "execution_count": 30,
     "metadata": {},
     "output_type": "execute_result"
    },
    {
     "data": {
      "image/png": "[encoded data removed]",
      "text/plain": [
       "<Figure size 1080x288 with 4 Axes>"
      ]
     },
     "metadata": {
      "needs_background": "light"
     },
     "output_type": "display_data"
    }
   ],
   "source": [
    "#ANOVA2.to_excel(r'A:\\Users\\E2118\\Documents\\鄭景元\\3D\\python\\L9_回應表\\抗拉回應表.xls')\n",
    "ANOVAP2 = ANOVA2.T.plot(kind='line',ylim=(59.5,61.5),subplots=True,figsize = (15,4),layout=(1,4),sharey=True,xticks=[0,1,2],fontsize = 18)\n",
    "\n",
    "ANOVAP2"
   ]
  },
  {
   "cell_type": "code",
   "execution_count": 31,
   "metadata": {},
   "outputs": [
    {
     "data": {
      "text/html": [
       "<div>\n",
       "<style scoped>\n",
       "    .dataframe tbody tr th:only-of-type {\n",
       "        vertical-align: middle;\n",
       "    }\n",
       "\n",
       "    .dataframe tbody tr th {\n",
       "        vertical-align: top;\n",
       "    }\n",
       "\n",
       "    .dataframe thead th {\n",
       "        text-align: right;\n",
       "    }\n",
       "</style>\n",
       "<table border=\"1\" class=\"dataframe\">\n",
       "  <thead>\n",
       "    <tr style=\"text-align: right;\">\n",
       "      <th></th>\n",
       "      <th>level1</th>\n",
       "      <th>level2</th>\n",
       "      <th>level3</th>\n",
       "      <th>max</th>\n",
       "    </tr>\n",
       "  </thead>\n",
       "  <tbody>\n",
       "    <tr>\n",
       "      <th>A</th>\n",
       "      <td>60.609192</td>\n",
       "      <td>60.490218</td>\n",
       "      <td>60.413845</td>\n",
       "      <td>60.609192</td>\n",
       "    </tr>\n",
       "    <tr>\n",
       "      <th>B</th>\n",
       "      <td>60.595109</td>\n",
       "      <td>60.409690</td>\n",
       "      <td>60.508457</td>\n",
       "      <td>60.595109</td>\n",
       "    </tr>\n",
       "    <tr>\n",
       "      <th>C</th>\n",
       "      <td>60.474702</td>\n",
       "      <td>60.548420</td>\n",
       "      <td>60.490133</td>\n",
       "      <td>60.548420</td>\n",
       "    </tr>\n",
       "    <tr>\n",
       "      <th>D</th>\n",
       "      <td>60.022203</td>\n",
       "      <td>60.994731</td>\n",
       "      <td>60.496321</td>\n",
       "      <td>60.994731</td>\n",
       "    </tr>\n",
       "  </tbody>\n",
       "</table>\n",
       "</div>"
      ],
      "text/plain": [
       "      level1     level2     level3        max\n",
       "A  60.609192  60.490218  60.413845  60.609192\n",
       "B  60.595109  60.409690  60.508457  60.595109\n",
       "C  60.474702  60.548420  60.490133  60.548420\n",
       "D  60.022203  60.994731  60.496321  60.994731"
      ]
     },
     "execution_count": 31,
     "metadata": {},
     "output_type": "execute_result"
    }
   ],
   "source": [
    "ANOVA2['max'] =ANOVA2.max(axis = 1)\n",
    "ANOVA2"
   ]
  },
  {
   "cell_type": "code",
   "execution_count": 32,
   "metadata": {},
   "outputs": [
    {
     "data": {
      "text/plain": [
       "60.50441834912902"
      ]
     },
     "execution_count": 32,
     "metadata": {},
     "output_type": "execute_result"
    }
   ],
   "source": [
    "M2 = df2.loc[:,'SN'].mean()\n",
    "\n",
    "M2"
   ]
  },
  {
   "cell_type": "code",
   "execution_count": 33,
   "metadata": {},
   "outputs": [],
   "source": [
    "seANOVA2 = ANOVA2.loc[:,'max']\n",
    "dfANOVA2 = seANOVA2.to_frame()\n",
    "dfANOVA2.T\n",
    "A2max = dfANOVA2.T.loc['max','A']\n",
    "B2max = dfANOVA2.T.loc['max','B']\n",
    "C2max = dfANOVA2.T.loc['max','C']\n",
    "D2max = dfANOVA2.T.loc['max','D']\n"
   ]
  },
  {
   "cell_type": "code",
   "execution_count": 34,
   "metadata": {},
   "outputs": [
    {
     "data": {
      "text/html": [
       "<div>\n",
       "<style scoped>\n",
       "    .dataframe tbody tr th:only-of-type {\n",
       "        vertical-align: middle;\n",
       "    }\n",
       "\n",
       "    .dataframe tbody tr th {\n",
       "        vertical-align: top;\n",
       "    }\n",
       "\n",
       "    .dataframe thead th {\n",
       "        text-align: right;\n",
       "    }\n",
       "</style>\n",
       "<table border=\"1\" class=\"dataframe\">\n",
       "  <thead>\n",
       "    <tr style=\"text-align: right;\">\n",
       "      <th></th>\n",
       "      <th>level1</th>\n",
       "      <th>level2</th>\n",
       "      <th>level3</th>\n",
       "      <th>Mean square</th>\n",
       "      <th>F</th>\n",
       "      <th>Contribution(%)</th>\n",
       "    </tr>\n",
       "  </thead>\n",
       "  <tbody>\n",
       "    <tr>\n",
       "      <th>A</th>\n",
       "      <td>60.609192</td>\n",
       "      <td>60.490218</td>\n",
       "      <td>60.413845</td>\n",
       "      <td>0.058148</td>\n",
       "      <td>6.411154</td>\n",
       "      <td>3.781056</td>\n",
       "    </tr>\n",
       "    <tr>\n",
       "      <th>B</th>\n",
       "      <td>60.595109</td>\n",
       "      <td>60.409690</td>\n",
       "      <td>60.508457</td>\n",
       "      <td>0.051644</td>\n",
       "      <td>5.694010</td>\n",
       "      <td>3.358112</td>\n",
       "    </tr>\n",
       "    <tr>\n",
       "      <th>C</th>\n",
       "      <td>60.474702</td>\n",
       "      <td>60.548420</td>\n",
       "      <td>60.490133</td>\n",
       "      <td>0.009070</td>\n",
       "      <td>1.000000</td>\n",
       "      <td>0.589762</td>\n",
       "    </tr>\n",
       "    <tr>\n",
       "      <th>D</th>\n",
       "      <td>60.022203</td>\n",
       "      <td>60.994731</td>\n",
       "      <td>60.496321</td>\n",
       "      <td>1.419013</td>\n",
       "      <td>156.454700</td>\n",
       "      <td>92.271069</td>\n",
       "    </tr>\n",
       "  </tbody>\n",
       "</table>\n",
       "</div>"
      ],
      "text/plain": [
       "      level1     level2     level3  Mean square           F  Contribution(%)\n",
       "A  60.609192  60.490218  60.413845     0.058148    6.411154         3.781056\n",
       "B  60.595109  60.409690  60.508457     0.051644    5.694010         3.358112\n",
       "C  60.474702  60.548420  60.490133     0.009070    1.000000         0.589762\n",
       "D  60.022203  60.994731  60.496321     1.419013  156.454700        92.271069"
      ]
     },
     "execution_count": 34,
     "metadata": {},
     "output_type": "execute_result"
    }
   ],
   "source": [
    "df2['Mean square'] = (df2['SN']-M2)**2\n",
    "meanSQ =  df2.loc[:,'Mean square'].sum()\n",
    "meanSQ\n",
    "ANOVA2 = ANOVA2.drop('max',axis = 1)\n",
    "MA = ANOVA2.loc['A',:].mean()\n",
    "MB = ANOVA2.loc['B',:].mean()\n",
    "MC = ANOVA2.loc['C',:].mean()\n",
    "MD = ANOVA2.loc['D',:].mean()\n",
    "\n",
    "ANOVA2.loc['A','Mean square'] = 3*(ANOVA2.loc['A','level1']-MA)**2 + 3*(ANOVA2.loc['A','level2']-MA)**2 + 3*(ANOVA2.loc['A','level3']-MA)**2\n",
    "ANOVA2.loc['B','Mean square'] = 3*(ANOVA2.loc['B','level1']-MB)**2 + 3*(ANOVA2.loc['B','level2']-MB)**2 + 3*(ANOVA2.loc['B','level3']-MB)**2\n",
    "ANOVA2.loc['C','Mean square'] = 3*(ANOVA2.loc['C','level1']-MC)**2 + 3*(ANOVA2.loc['C','level2']-MC)**2 + 3*(ANOVA2.loc['C','level3']-MC)**2\n",
    "ANOVA2.loc['D','Mean square'] = 3*(ANOVA2.loc['D','level1']-MD)**2 + 3*(ANOVA2.loc['D','level2']-MD)**2 + 3*(ANOVA2.loc['D','level3']-MD)**2\n",
    "R2 = ANOVA2.loc['C','Mean square']\n",
    "ANOVA2['F'] = ANOVA2.apply(lambda x:(x['Mean square']/2)/(R2/2),axis = 1)\n",
    "ANOVA2['Contribution(%)'] = ANOVA2.apply(lambda x:x['Mean square']/meanSQ*100,axis = 1)\n",
    "ANOVA2.to_excel(r'A:\\Users\\E2118\\Documents\\鄭景元\\3D\\python\\L9_回應表\\抗拉回應表n.xlsx')\n",
    "ANOVA2\n"
   ]
  },
  {
   "cell_type": "code",
   "execution_count": 27,
   "metadata": {},
   "outputs": [
    {
     "data": {
      "text/plain": [
       "61.23419684441066"
      ]
     },
     "execution_count": 27,
     "metadata": {},
     "output_type": "execute_result"
    }
   ],
   "source": [
    "#四個成分MAX剪掉MEAN\n",
    "bestSN2 = M2 + (A2max - M2) + (B2max - M2) + (C2max - M2) +(D2max-M2)\n",
    "best2 = (1/(10**(bestSN2/-10)))**(0.5)\n",
    "bestSN2"
   ]
  },
  {
   "cell_type": "code",
   "execution_count": 28,
   "metadata": {},
   "outputs": [
    {
     "name": "stdout",
     "output_type": "stream",
     "text": [
      "0.07935161147570943 0.09162734849226287\n"
     ]
    },
    {
     "data": {
      "text/plain": [
       "61.33456440871883"
      ]
     },
     "execution_count": 28,
     "metadata": {},
     "output_type": "execute_result"
    }
   ],
   "source": [
    "e1 = 1139.6576\n",
    "e2 = 1176.5164\n",
    "e3 = 1183.5127\n",
    "e = -10*math.log10((1/(e1)**2 + 1/(e2)**2 + 1/(e3)**2)/3)\n",
    "R = abs( (e - bestSN2)/bestSN2 )\n",
    "CIp = abs(-1.96*(R)**(0.5))\n",
    "\n",
    "CIe = abs(-1.96*((R)**(0.5))*((1+1/3)**(0.5)))\n",
    "print(CIp,CIe)\n",
    "e"
   ]
  },
  {
   "cell_type": "markdown",
   "metadata": {},
   "source": [
    "e1 = 1139.6576\n",
    "e2 = 1176.5164\n",
    "e3 = 1116.3683\n",
    "UT1 = 1183.5127\n",
    "UT2 = 1189.8499\n",
    "UT3 = 1181.5375"
   ]
  },
  {
   "cell_type": "code",
   "execution_count": 37,
   "metadata": {},
   "outputs": [
    {
     "ename": "NameError",
     "evalue": "name 'bestSN2' is not defined",
     "output_type": "error",
     "traceback": [
      "\u001b[1;31m---------------------------------------------------------------------------\u001b[0m",
      "\u001b[1;31mNameError\u001b[0m                                 Traceback (most recent call last)",
      "\u001b[1;32m<ipython-input-37-94f27ceaa4e9>\u001b[0m in \u001b[0;36m<module>\u001b[1;34m()\u001b[0m\n\u001b[0;32m      6\u001b[0m \u001b[0mplt\u001b[0m\u001b[1;33m.\u001b[0m\u001b[0mbarh\u001b[0m\u001b[1;33m(\u001b[0m\u001b[1;36m4\u001b[0m\u001b[1;33m,\u001b[0m\u001b[1;36m0\u001b[0m\u001b[1;33m,\u001b[0m\u001b[0mleft\u001b[0m  \u001b[1;33m=\u001b[0m \u001b[0mlowbar\u001b[0m\u001b[1;33m,\u001b[0m\u001b[0mheight\u001b[0m\u001b[1;33m=\u001b[0m \u001b[1;36m0.3\u001b[0m\u001b[1;33m)\u001b[0m\u001b[1;33m\u001b[0m\u001b[0m\n\u001b[0;32m      7\u001b[0m \u001b[1;33m\u001b[0m\u001b[0m\n\u001b[1;32m----> 8\u001b[1;33m \u001b[0mpr\u001b[0m \u001b[1;33m=\u001b[0m \u001b[0mplt\u001b[0m\u001b[1;33m.\u001b[0m\u001b[0mbarh\u001b[0m\u001b[1;33m(\u001b[0m\u001b[1;36m3\u001b[0m\u001b[1;33m,\u001b[0m \u001b[0mbestSN2\u001b[0m\u001b[1;33m-\u001b[0m\u001b[0mlowbar\u001b[0m\u001b[1;33m,\u001b[0m  \u001b[0mxerr\u001b[0m \u001b[1;33m=\u001b[0m \u001b[0mCIp\u001b[0m\u001b[1;33m,\u001b[0m\u001b[0mcapsize\u001b[0m \u001b[1;33m=\u001b[0m \u001b[1;36m10\u001b[0m\u001b[1;33m,\u001b[0m\u001b[0mleft\u001b[0m  \u001b[1;33m=\u001b[0m \u001b[0mlowbar\u001b[0m\u001b[1;33m,\u001b[0m\u001b[0mheight\u001b[0m \u001b[1;33m=\u001b[0m \u001b[1;36m0.8\u001b[0m\u001b[1;33m,\u001b[0m\u001b[0mlabel\u001b[0m \u001b[1;33m=\u001b[0m  \u001b[1;34m'Prediction'\u001b[0m\u001b[1;33m,\u001b[0m\u001b[0mtick_label\u001b[0m\u001b[1;33m=\u001b[0m\u001b[1;34m''\u001b[0m\u001b[1;33m)\u001b[0m\u001b[1;33m\u001b[0m\u001b[0m\n\u001b[0m\u001b[0;32m      9\u001b[0m \u001b[0mex\u001b[0m \u001b[1;33m=\u001b[0m \u001b[0mplt\u001b[0m\u001b[1;33m.\u001b[0m\u001b[0mbarh\u001b[0m\u001b[1;33m(\u001b[0m\u001b[1;36m2\u001b[0m\u001b[1;33m,\u001b[0m \u001b[0me\u001b[0m\u001b[1;33m-\u001b[0m\u001b[0mlowbar\u001b[0m\u001b[1;33m,\u001b[0m  \u001b[0mxerr\u001b[0m \u001b[1;33m=\u001b[0m \u001b[0mCIe\u001b[0m\u001b[1;33m,\u001b[0m\u001b[0mcapsize\u001b[0m \u001b[1;33m=\u001b[0m \u001b[1;36m10\u001b[0m\u001b[1;33m,\u001b[0m\u001b[0mleft\u001b[0m  \u001b[1;33m=\u001b[0m \u001b[0mlowbar\u001b[0m\u001b[1;33m,\u001b[0m\u001b[0mheight\u001b[0m \u001b[1;33m=\u001b[0m \u001b[1;36m0.8\u001b[0m\u001b[1;33m,\u001b[0m\u001b[0mlabel\u001b[0m \u001b[1;33m=\u001b[0m  \u001b[1;34m'Experiment'\u001b[0m\u001b[1;33m,\u001b[0m\u001b[0malign\u001b[0m\u001b[1;33m=\u001b[0m\u001b[1;34m'center'\u001b[0m\u001b[1;33m)\u001b[0m\u001b[1;33m\u001b[0m\u001b[0m\n\u001b[0;32m     10\u001b[0m \u001b[1;33m\u001b[0m\u001b[0m\n",
      "\u001b[1;31mNameError\u001b[0m: name 'bestSN2' is not defined"
     ]
    },
    {
     "data": {
      "image/png": "[encoded data removed]",
      "text/plain": [
       "<Figure size 432x288 with 1 Axes>"
      ]
     },
     "metadata": {
      "needs_background": "light"
     },
     "output_type": "display_data"
    }
   ],
   "source": [
    "\n",
    "ind = numpy.arange(2)\n",
    "\n",
    "lowbar = 60 # x軸底線位置\n",
    "plt.barh(1,0,left  = lowbar,height= 0.3)\n",
    "plt.barh(4,0,left  = lowbar,height= 0.3)\n",
    "\n",
    "pr = plt.barh(3, bestSN2-lowbar,  xerr = CIp,capsize = 10,left  = lowbar,height = 0.8,label =  'Prediction',tick_label='')\n",
    "ex = plt.barh(2, e-lowbar,  xerr = CIe,capsize = 10,left  = lowbar,height = 0.8,label =  'Experiment',align='center')\n",
    "\n",
    "plt.suptitle('Tensile Strength Optimization \\n with Confidence Interval\\n  ',y=1.04 ,fontsize=18, fontweight='bold')\n",
    "plt.xlabel('S/N Ratio (db)',fontsize=15)\n",
    "plt.xticks(fontsize=15)\n",
    "plt.legend(loc = 0,fontsize=14)\n",
    "\n",
    "#plt.Artist.set_label('1','2')\n",
    "#BAR靠近 座標軸 數字 文字 跟標題放大\n",
    "plt.show()"
   ]
  },
  {
   "cell_type": "code",
   "execution_count": 38,
   "metadata": {},
   "outputs": [
    {
     "data": {
      "text/html": [
       "<div>\n",
       "<style scoped>\n",
       "    .dataframe tbody tr th:only-of-type {\n",
       "        vertical-align: middle;\n",
       "    }\n",
       "\n",
       "    .dataframe tbody tr th {\n",
       "        vertical-align: top;\n",
       "    }\n",
       "\n",
       "    .dataframe thead th {\n",
       "        text-align: right;\n",
       "    }\n",
       "</style>\n",
       "<table border=\"1\" class=\"dataframe\">\n",
       "  <thead>\n",
       "    <tr style=\"text-align: right;\">\n",
       "      <th></th>\n",
       "      <th>A</th>\n",
       "      <th>B</th>\n",
       "      <th>C</th>\n",
       "      <th>D</th>\n",
       "      <th>編號</th>\n",
       "      <th>X1</th>\n",
       "      <th>X2</th>\n",
       "      <th>X3</th>\n",
       "      <th>SN</th>\n",
       "    </tr>\n",
       "  </thead>\n",
       "  <tbody>\n",
       "    <tr>\n",
       "      <th>0</th>\n",
       "      <td>1</td>\n",
       "      <td>1</td>\n",
       "      <td>1</td>\n",
       "      <td>1</td>\n",
       "      <td>1</td>\n",
       "      <td>27.758235</td>\n",
       "      <td>28.610294</td>\n",
       "      <td>0.000000</td>\n",
       "      <td>28.997157</td>\n",
       "    </tr>\n",
       "    <tr>\n",
       "      <th>1</th>\n",
       "      <td>1</td>\n",
       "      <td>2</td>\n",
       "      <td>2</td>\n",
       "      <td>2</td>\n",
       "      <td>2</td>\n",
       "      <td>22.017353</td>\n",
       "      <td>23.495000</td>\n",
       "      <td>21.871176</td>\n",
       "      <td>27.015158</td>\n",
       "    </tr>\n",
       "    <tr>\n",
       "      <th>2</th>\n",
       "      <td>1</td>\n",
       "      <td>3</td>\n",
       "      <td>3</td>\n",
       "      <td>3</td>\n",
       "      <td>3</td>\n",
       "      <td>24.707059</td>\n",
       "      <td>23.380588</td>\n",
       "      <td>23.188824</td>\n",
       "      <td>27.506237</td>\n",
       "    </tr>\n",
       "    <tr>\n",
       "      <th>3</th>\n",
       "      <td>2</td>\n",
       "      <td>3</td>\n",
       "      <td>2</td>\n",
       "      <td>1</td>\n",
       "      <td>4</td>\n",
       "      <td>24.134706</td>\n",
       "      <td>27.023529</td>\n",
       "      <td>26.042059</td>\n",
       "      <td>28.180940</td>\n",
       "    </tr>\n",
       "    <tr>\n",
       "      <th>4</th>\n",
       "      <td>2</td>\n",
       "      <td>1</td>\n",
       "      <td>3</td>\n",
       "      <td>2</td>\n",
       "      <td>5</td>\n",
       "      <td>21.307059</td>\n",
       "      <td>25.394412</td>\n",
       "      <td>22.704412</td>\n",
       "      <td>27.217592</td>\n",
       "    </tr>\n",
       "    <tr>\n",
       "      <th>5</th>\n",
       "      <td>2</td>\n",
       "      <td>2</td>\n",
       "      <td>1</td>\n",
       "      <td>3</td>\n",
       "      <td>6</td>\n",
       "      <td>24.423529</td>\n",
       "      <td>26.257353</td>\n",
       "      <td>26.723529</td>\n",
       "      <td>28.212985</td>\n",
       "    </tr>\n",
       "    <tr>\n",
       "      <th>6</th>\n",
       "      <td>3</td>\n",
       "      <td>2</td>\n",
       "      <td>3</td>\n",
       "      <td>1</td>\n",
       "      <td>7</td>\n",
       "      <td>26.930000</td>\n",
       "      <td>27.003529</td>\n",
       "      <td>26.882941</td>\n",
       "      <td>28.607528</td>\n",
       "    </tr>\n",
       "    <tr>\n",
       "      <th>7</th>\n",
       "      <td>3</td>\n",
       "      <td>3</td>\n",
       "      <td>1</td>\n",
       "      <td>2</td>\n",
       "      <td>8</td>\n",
       "      <td>22.796471</td>\n",
       "      <td>21.739118</td>\n",
       "      <td>0.000000</td>\n",
       "      <td>26.946199</td>\n",
       "    </tr>\n",
       "    <tr>\n",
       "      <th>8</th>\n",
       "      <td>3</td>\n",
       "      <td>1</td>\n",
       "      <td>2</td>\n",
       "      <td>3</td>\n",
       "      <td>9</td>\n",
       "      <td>25.057647</td>\n",
       "      <td>26.662941</td>\n",
       "      <td>25.087059</td>\n",
       "      <td>28.154785</td>\n",
       "    </tr>\n",
       "  </tbody>\n",
       "</table>\n",
       "</div>"
      ],
      "text/plain": [
       "   A  B  C  D  編號         X1         X2         X3         SN\n",
       "0  1  1  1  1   1  27.758235  28.610294   0.000000  28.997157\n",
       "1  1  2  2  2   2  22.017353  23.495000  21.871176  27.015158\n",
       "2  1  3  3  3   3  24.707059  23.380588  23.188824  27.506237\n",
       "3  2  3  2  1   4  24.134706  27.023529  26.042059  28.180940\n",
       "4  2  1  3  2   5  21.307059  25.394412  22.704412  27.217592\n",
       "5  2  2  1  3   6  24.423529  26.257353  26.723529  28.212985\n",
       "6  3  2  3  1   7  26.930000  27.003529  26.882941  28.607528\n",
       "7  3  3  1  2   8  22.796471  21.739118   0.000000  26.946199\n",
       "8  3  1  2  3   9  25.057647  26.662941  25.087059  28.154785"
      ]
     },
     "execution_count": 38,
     "metadata": {},
     "output_type": "execute_result"
    }
   ],
   "source": [
    "f = open(r'A:\\Users\\E2118\\Documents\\鄭景元\\3D\\109-鄭景元-畢業光碟\\圖表\\第四章\\單目標最佳化\\伸長\\L9_伸長率%.csv')#,encoding=\"utf-8\"\n",
    " \n",
    "df3 = pd.read_csv(f)\n",
    "df3['SN'] = 0\n",
    "df3['SN'] = df3.apply(lambda x: (-10*math.log10((1/(x['X1'])**2 + 1/(x['X2'])**2 + 1/(x['X3'])**2)/3)) if x['X3'] > 0\n",
    "                      else (-10*math.log10((1/(x['X1'])**2 + 1/(x['X2'])**2 )/2)), axis=1)\n",
    "df3['A'] = [1,1,1,2,2,2,3,3,3]\n",
    "df3['B'] = [1,2,3,3,1,2,2,3,1]\n",
    "df3['C'] = [1,2,3,2,3,1,3,1,2]\n",
    "df3['D'] = [1,2,3,1,2,3,1,2,3]\n",
    "df3 = df3[['A','B','C','D','編號','X1','X2','X3','SN']]\n",
    "#df3.to_excel(r'A:\\Users\\E2118\\Documents\\鄭景元\\3D\\python\\伸長率sn.xlsx')\n",
    "df3"
   ]
  },
  {
   "cell_type": "code",
   "execution_count": 39,
   "metadata": {},
   "outputs": [
    {
     "data": {
      "text/html": [
       "<div>\n",
       "<style scoped>\n",
       "    .dataframe tbody tr th:only-of-type {\n",
       "        vertical-align: middle;\n",
       "    }\n",
       "\n",
       "    .dataframe tbody tr th {\n",
       "        vertical-align: top;\n",
       "    }\n",
       "\n",
       "    .dataframe thead th {\n",
       "        text-align: right;\n",
       "    }\n",
       "</style>\n",
       "<table border=\"1\" class=\"dataframe\">\n",
       "  <thead>\n",
       "    <tr style=\"text-align: right;\">\n",
       "      <th></th>\n",
       "      <th>level1</th>\n",
       "      <th>level2</th>\n",
       "      <th>level3</th>\n",
       "    </tr>\n",
       "  </thead>\n",
       "  <tbody>\n",
       "    <tr>\n",
       "      <th>A</th>\n",
       "      <td>27.839517</td>\n",
       "      <td>27.870506</td>\n",
       "      <td>27.902838</td>\n",
       "    </tr>\n",
       "    <tr>\n",
       "      <th>B</th>\n",
       "      <td>28.123178</td>\n",
       "      <td>27.945224</td>\n",
       "      <td>27.544459</td>\n",
       "    </tr>\n",
       "    <tr>\n",
       "      <th>C</th>\n",
       "      <td>28.052114</td>\n",
       "      <td>27.783628</td>\n",
       "      <td>27.777119</td>\n",
       "    </tr>\n",
       "    <tr>\n",
       "      <th>D</th>\n",
       "      <td>28.595209</td>\n",
       "      <td>27.059650</td>\n",
       "      <td>27.958002</td>\n",
       "    </tr>\n",
       "  </tbody>\n",
       "</table>\n",
       "</div>"
      ],
      "text/plain": [
       "      level1     level2     level3\n",
       "A  27.839517  27.870506  27.902838\n",
       "B  28.123178  27.945224  27.544459\n",
       "C  28.052114  27.783628  27.777119\n",
       "D  28.595209  27.059650  27.958002"
      ]
     },
     "execution_count": 39,
     "metadata": {},
     "output_type": "execute_result"
    }
   ],
   "source": [
    "seA = df3.groupby(\"A\").SN.mean()\n",
    "df3AA = seA.to_frame()\n",
    "df3A = df3AA.T\n",
    "df3A.columns = ['level1', 'level2', 'level3']\n",
    "df3A.index = ['A']\n",
    "##\n",
    "seB = df3.groupby(\"B\").SN.mean()\n",
    "df3BB = seB.to_frame()\n",
    "df3B = df3BB.T\n",
    "df3B.columns = ['level1', 'level2', 'level3']\n",
    "df3B.index = ['B']\n",
    "##\n",
    "seC = df3.groupby(\"C\").SN.mean()\n",
    "df3CC = seC.to_frame()\n",
    "df3C = df3CC.T\n",
    "df3C.columns = ['level1', 'level2', 'level3']\n",
    "df3C.index = ['C']\n",
    "##\n",
    "seD = df3.groupby(\"D\").SN.mean()\n",
    "df3DD = seD.to_frame()\n",
    "df3D = df3DD.T\n",
    "df3D.columns = ['level1', 'level2', 'level3']\n",
    "df3D.index = ['D']\n",
    "ANOVA3 = pd.concat([df3A, df3B,df3C,df3D],axis = 0)\n",
    "ANOVA3\n"
   ]
  },
  {
   "cell_type": "code",
   "execution_count": 40,
   "metadata": {},
   "outputs": [
    {
     "data": {
      "image/png": "[encoded data removed]",
      "text/plain": [
       "<Figure size 1080x288 with 4 Axes>"
      ]
     },
     "metadata": {
      "needs_background": "light"
     },
     "output_type": "display_data"
    }
   ],
   "source": [
    "ANOVAP3 = ANOVA3.T.plot(kind='line',ylim=(27,29),subplots=True,figsize = (15,4),layout=(1,4),sharey=True,xticks=[0,1,2],fontsize = 18)"
   ]
  },
  {
   "cell_type": "code",
   "execution_count": 41,
   "metadata": {},
   "outputs": [
    {
     "data": {
      "text/html": [
       "<div>\n",
       "<style scoped>\n",
       "    .dataframe tbody tr th:only-of-type {\n",
       "        vertical-align: middle;\n",
       "    }\n",
       "\n",
       "    .dataframe tbody tr th {\n",
       "        vertical-align: top;\n",
       "    }\n",
       "\n",
       "    .dataframe thead th {\n",
       "        text-align: right;\n",
       "    }\n",
       "</style>\n",
       "<table border=\"1\" class=\"dataframe\">\n",
       "  <thead>\n",
       "    <tr style=\"text-align: right;\">\n",
       "      <th></th>\n",
       "      <th>level1</th>\n",
       "      <th>level2</th>\n",
       "      <th>level3</th>\n",
       "      <th>max</th>\n",
       "    </tr>\n",
       "  </thead>\n",
       "  <tbody>\n",
       "    <tr>\n",
       "      <th>A</th>\n",
       "      <td>27.839517</td>\n",
       "      <td>27.870506</td>\n",
       "      <td>27.902838</td>\n",
       "      <td>27.902838</td>\n",
       "    </tr>\n",
       "    <tr>\n",
       "      <th>B</th>\n",
       "      <td>28.123178</td>\n",
       "      <td>27.945224</td>\n",
       "      <td>27.544459</td>\n",
       "      <td>28.123178</td>\n",
       "    </tr>\n",
       "    <tr>\n",
       "      <th>C</th>\n",
       "      <td>28.052114</td>\n",
       "      <td>27.783628</td>\n",
       "      <td>27.777119</td>\n",
       "      <td>28.052114</td>\n",
       "    </tr>\n",
       "    <tr>\n",
       "      <th>D</th>\n",
       "      <td>28.595209</td>\n",
       "      <td>27.059650</td>\n",
       "      <td>27.958002</td>\n",
       "      <td>28.595209</td>\n",
       "    </tr>\n",
       "  </tbody>\n",
       "</table>\n",
       "</div>"
      ],
      "text/plain": [
       "      level1     level2     level3        max\n",
       "A  27.839517  27.870506  27.902838  27.902838\n",
       "B  28.123178  27.945224  27.544459  28.123178\n",
       "C  28.052114  27.783628  27.777119  28.052114\n",
       "D  28.595209  27.059650  27.958002  28.595209"
      ]
     },
     "execution_count": 41,
     "metadata": {},
     "output_type": "execute_result"
    }
   ],
   "source": [
    "#ANOVA3.to_excel(r'A:\\Users\\E2118\\Documents\\鄭景元\\3D\\python\\L9_回應表\\伸長率回應表%.xls')\n",
    "ANOVA3['max'] =ANOVA3.max(axis = 1)\n",
    "ANOVA3"
   ]
  },
  {
   "cell_type": "code",
   "execution_count": 42,
   "metadata": {},
   "outputs": [
    {
     "data": {
      "text/plain": [
       "27.87095352630384"
      ]
     },
     "execution_count": 42,
     "metadata": {},
     "output_type": "execute_result"
    }
   ],
   "source": [
    "M3 = df3.loc[:,'SN'].mean()\n",
    "\n",
    "M3"
   ]
  },
  {
   "cell_type": "code",
   "execution_count": 43,
   "metadata": {},
   "outputs": [],
   "source": [
    "seANOVA3 = ANOVA3.loc[:,'max']\n",
    "dfANOVA3 = seANOVA3.to_frame()\n",
    "dfANOVA3.T\n",
    "A3max = dfANOVA3.T.loc[:,'A']\n",
    "B3max = dfANOVA3.T.loc[:,'B']\n",
    "C3max = dfANOVA3.T.loc[:,'C']\n",
    "D3max = dfANOVA3.T.loc[:,'D']\n"
   ]
  },
  {
   "cell_type": "code",
   "execution_count": 44,
   "metadata": {},
   "outputs": [
    {
     "data": {
      "text/html": [
       "<div>\n",
       "<style scoped>\n",
       "    .dataframe tbody tr th:only-of-type {\n",
       "        vertical-align: middle;\n",
       "    }\n",
       "\n",
       "    .dataframe tbody tr th {\n",
       "        vertical-align: top;\n",
       "    }\n",
       "\n",
       "    .dataframe thead th {\n",
       "        text-align: right;\n",
       "    }\n",
       "</style>\n",
       "<table border=\"1\" class=\"dataframe\">\n",
       "  <thead>\n",
       "    <tr style=\"text-align: right;\">\n",
       "      <th></th>\n",
       "      <th>level1</th>\n",
       "      <th>level2</th>\n",
       "      <th>level3</th>\n",
       "      <th>Mean square</th>\n",
       "      <th>F</th>\n",
       "      <th>Contribution(%)</th>\n",
       "    </tr>\n",
       "  </thead>\n",
       "  <tbody>\n",
       "    <tr>\n",
       "      <th>A</th>\n",
       "      <td>27.839517</td>\n",
       "      <td>27.870506</td>\n",
       "      <td>27.902838</td>\n",
       "      <td>0.006015</td>\n",
       "      <td>1.000000</td>\n",
       "      <td>0.141466</td>\n",
       "    </tr>\n",
       "    <tr>\n",
       "      <th>B</th>\n",
       "      <td>28.123178</td>\n",
       "      <td>27.945224</td>\n",
       "      <td>27.544459</td>\n",
       "      <td>0.527196</td>\n",
       "      <td>87.645418</td>\n",
       "      <td>12.398866</td>\n",
       "    </tr>\n",
       "    <tr>\n",
       "      <th>C</th>\n",
       "      <td>28.052114</td>\n",
       "      <td>27.783628</td>\n",
       "      <td>27.777119</td>\n",
       "      <td>0.147749</td>\n",
       "      <td>24.563060</td>\n",
       "      <td>3.474843</td>\n",
       "    </tr>\n",
       "    <tr>\n",
       "      <th>D</th>\n",
       "      <td>28.595209</td>\n",
       "      <td>27.059650</td>\n",
       "      <td>27.958002</td>\n",
       "      <td>3.571011</td>\n",
       "      <td>593.674029</td>\n",
       "      <td>83.984824</td>\n",
       "    </tr>\n",
       "  </tbody>\n",
       "</table>\n",
       "</div>"
      ],
      "text/plain": [
       "      level1     level2     level3  Mean square           F  Contribution(%)\n",
       "A  27.839517  27.870506  27.902838     0.006015    1.000000         0.141466\n",
       "B  28.123178  27.945224  27.544459     0.527196   87.645418        12.398866\n",
       "C  28.052114  27.783628  27.777119     0.147749   24.563060         3.474843\n",
       "D  28.595209  27.059650  27.958002     3.571011  593.674029        83.984824"
      ]
     },
     "execution_count": 44,
     "metadata": {},
     "output_type": "execute_result"
    }
   ],
   "source": [
    "df3['Mean square'] = (df3['SN']-M3)**2\n",
    "meanSQ =  df3.loc[:,'Mean square'].sum()\n",
    "meanSQ\n",
    "ANOVA3 = ANOVA3.drop('max',axis = 1)\n",
    "MA = ANOVA3.loc['A',:].mean()\n",
    "MB = ANOVA3.loc['B',:].mean()\n",
    "MC = ANOVA3.loc['C',:].mean()\n",
    "MD = ANOVA3.loc['D',:].mean()\n",
    "\n",
    "ANOVA3.loc['A','Mean square'] = 3*(ANOVA3.loc['A','level1']-MA)**2 + 3*(ANOVA3.loc['A','level2']-MA)**2 + 3*(ANOVA3.loc['A','level3']-MA)**2\n",
    "ANOVA3.loc['B','Mean square'] = 3*(ANOVA3.loc['B','level1']-MB)**2 + 3*(ANOVA3.loc['B','level2']-MB)**2 + 3*(ANOVA3.loc['B','level3']-MB)**2\n",
    "ANOVA3.loc['C','Mean square'] = 3*(ANOVA3.loc['C','level1']-MC)**2 + 3*(ANOVA3.loc['C','level2']-MC)**2 + 3*(ANOVA3.loc['C','level3']-MC)**2\n",
    "ANOVA3.loc['D','Mean square'] = 3*(ANOVA3.loc['D','level1']-MD)**2 + 3*(ANOVA3.loc['D','level2']-MD)**2 + 3*(ANOVA3.loc['D','level3']-MD)**2\n",
    "R3 = ANOVA3.loc['A','Mean square']\n",
    "ANOVA3['F'] = ANOVA3.apply(lambda x:(x['Mean square']/2)/(R3/2),axis = 1)\n",
    "\n",
    "ANOVA3['Contribution(%)'] = ANOVA3.apply(lambda x:x['Mean square']/meanSQ*100,axis = 1)\n",
    "ANOVA3.to_excel(r'A:\\Users\\E2118\\Documents\\鄭景元\\3D\\python\\L9_回應表\\伸長率回應表n.xlsx')\n",
    "ANOVA3\n"
   ]
  },
  {
   "cell_type": "code",
   "execution_count": 46,
   "metadata": {},
   "outputs": [
    {
     "data": {
      "text/plain": [
       "max    28.38075\n",
       "dtype: float64"
      ]
     },
     "execution_count": 46,
     "metadata": {},
     "output_type": "execute_result"
    }
   ],
   "source": [
    "bestSN3 = M3 + (A3max - M3) + (B3max - M3) + (C3max - M3) +(D3max-M3)\n",
    "best3 = (1/(10**(bestSN3/-10)))**(0.5)\n",
    "best3\n"
   ]
  },
  {
   "cell_type": "code",
   "execution_count": 48,
   "metadata": {},
   "outputs": [
    {
     "data": {
      "text/html": [
       "<div>\n",
       "<style scoped>\n",
       "    .dataframe tbody tr th:only-of-type {\n",
       "        vertical-align: middle;\n",
       "    }\n",
       "\n",
       "    .dataframe tbody tr th {\n",
       "        vertical-align: top;\n",
       "    }\n",
       "\n",
       "    .dataframe thead th {\n",
       "        text-align: right;\n",
       "    }\n",
       "</style>\n",
       "<table border=\"1\" class=\"dataframe\">\n",
       "  <thead>\n",
       "    <tr style=\"text-align: right;\">\n",
       "      <th></th>\n",
       "      <th>A</th>\n",
       "      <th>B</th>\n",
       "      <th>C</th>\n",
       "      <th>D</th>\n",
       "      <th>編號</th>\n",
       "      <th>X1</th>\n",
       "      <th>X2</th>\n",
       "      <th>X3</th>\n",
       "      <th>SN</th>\n",
       "    </tr>\n",
       "  </thead>\n",
       "  <tbody>\n",
       "    <tr>\n",
       "      <th>0</th>\n",
       "      <td>1</td>\n",
       "      <td>1</td>\n",
       "      <td>1</td>\n",
       "      <td>1</td>\n",
       "      <td>1</td>\n",
       "      <td>31.3</td>\n",
       "      <td>31.1</td>\n",
       "      <td>34.1</td>\n",
       "      <td>30.125396</td>\n",
       "    </tr>\n",
       "    <tr>\n",
       "      <th>1</th>\n",
       "      <td>1</td>\n",
       "      <td>2</td>\n",
       "      <td>2</td>\n",
       "      <td>2</td>\n",
       "      <td>2</td>\n",
       "      <td>33.0</td>\n",
       "      <td>33.1</td>\n",
       "      <td>32.9</td>\n",
       "      <td>30.370199</td>\n",
       "    </tr>\n",
       "    <tr>\n",
       "      <th>2</th>\n",
       "      <td>1</td>\n",
       "      <td>3</td>\n",
       "      <td>3</td>\n",
       "      <td>3</td>\n",
       "      <td>3</td>\n",
       "      <td>33.3</td>\n",
       "      <td>33.7</td>\n",
       "      <td>33.2</td>\n",
       "      <td>30.474387</td>\n",
       "    </tr>\n",
       "    <tr>\n",
       "      <th>3</th>\n",
       "      <td>2</td>\n",
       "      <td>3</td>\n",
       "      <td>2</td>\n",
       "      <td>1</td>\n",
       "      <td>4</td>\n",
       "      <td>27.8</td>\n",
       "      <td>29.3</td>\n",
       "      <td>28.4</td>\n",
       "      <td>29.090841</td>\n",
       "    </tr>\n",
       "    <tr>\n",
       "      <th>4</th>\n",
       "      <td>2</td>\n",
       "      <td>1</td>\n",
       "      <td>3</td>\n",
       "      <td>2</td>\n",
       "      <td>5</td>\n",
       "      <td>30.7</td>\n",
       "      <td>31.1</td>\n",
       "      <td>30.6</td>\n",
       "      <td>29.770377</td>\n",
       "    </tr>\n",
       "    <tr>\n",
       "      <th>5</th>\n",
       "      <td>2</td>\n",
       "      <td>2</td>\n",
       "      <td>1</td>\n",
       "      <td>3</td>\n",
       "      <td>6</td>\n",
       "      <td>32.8</td>\n",
       "      <td>33.8</td>\n",
       "      <td>33.3</td>\n",
       "      <td>30.446926</td>\n",
       "    </tr>\n",
       "    <tr>\n",
       "      <th>6</th>\n",
       "      <td>3</td>\n",
       "      <td>2</td>\n",
       "      <td>3</td>\n",
       "      <td>1</td>\n",
       "      <td>7</td>\n",
       "      <td>31.3</td>\n",
       "      <td>31.0</td>\n",
       "      <td>31.5</td>\n",
       "      <td>29.901068</td>\n",
       "    </tr>\n",
       "    <tr>\n",
       "      <th>7</th>\n",
       "      <td>3</td>\n",
       "      <td>3</td>\n",
       "      <td>1</td>\n",
       "      <td>2</td>\n",
       "      <td>8</td>\n",
       "      <td>30.1</td>\n",
       "      <td>29.5</td>\n",
       "      <td>30.2</td>\n",
       "      <td>29.521700</td>\n",
       "    </tr>\n",
       "    <tr>\n",
       "      <th>8</th>\n",
       "      <td>3</td>\n",
       "      <td>1</td>\n",
       "      <td>2</td>\n",
       "      <td>3</td>\n",
       "      <td>9</td>\n",
       "      <td>26.3</td>\n",
       "      <td>27.9</td>\n",
       "      <td>28.3</td>\n",
       "      <td>28.773456</td>\n",
       "    </tr>\n",
       "  </tbody>\n",
       "</table>\n",
       "</div>"
      ],
      "text/plain": [
       "   A  B  C  D  編號    X1    X2    X3         SN\n",
       "0  1  1  1  1   1  31.3  31.1  34.1  30.125396\n",
       "1  1  2  2  2   2  33.0  33.1  32.9  30.370199\n",
       "2  1  3  3  3   3  33.3  33.7  33.2  30.474387\n",
       "3  2  3  2  1   4  27.8  29.3  28.4  29.090841\n",
       "4  2  1  3  2   5  30.7  31.1  30.6  29.770377\n",
       "5  2  2  1  3   6  32.8  33.8  33.3  30.446926\n",
       "6  3  2  3  1   7  31.3  31.0  31.5  29.901068\n",
       "7  3  3  1  2   8  30.1  29.5  30.2  29.521700\n",
       "8  3  1  2  3   9  26.3  27.9  28.3  28.773456"
      ]
     },
     "execution_count": 48,
     "metadata": {},
     "output_type": "execute_result"
    }
   ],
   "source": [
    "f = open(r'A:\\Users\\E2118\\Documents\\鄭景元\\3D\\109-鄭景元-畢業光碟\\圖表\\第四章\\單目標最佳化\\硬度\\L9_HRC.csv')\n",
    " \n",
    "df4 = pd.read_csv(f)\n",
    "df4['SN'] = 0\n",
    "#df4.loc[0,'X1'] = 31.6\n",
    "#df4.loc[0,'X2'] = 31.7\n",
    "#df4.loc[0,'X3'] = 31.6\n",
    "df4['SN'] = df4.apply(lambda x: (-10*math.log10((1/(x['X1'])**2 + 1/(x['X2'])**2 + 1/(x['X3'])**2)/3)) if x['X3'] > 0\n",
    "                      else (-10*math.log10((1/(x['X1'])**2 + 1/(x['X2'])**2 )/2)), axis=1)\n",
    "df4['A'] = [1,1,1,2,2,2,3,3,3]\n",
    "df4['B'] = [1,2,3,3,1,2,2,3,1]\n",
    "df4['C'] = [1,2,3,2,3,1,3,1,2]\n",
    "df4['D'] = [1,2,3,1,2,3,1,2,3]\n",
    "#df4['0'] = [1,1,1,1,1,31.6,31.7,31.6,0]\n",
    "df4 = df4[['A','B','C','D','編號','X1','X2','X3','SN']]\n",
    "#df4.to_excel(r'A:\\Users\\E2118\\Documents\\鄭景元\\3D\\python\\HRCsn.xlsx')\n",
    "df4"
   ]
  },
  {
   "cell_type": "code",
   "execution_count": 49,
   "metadata": {},
   "outputs": [
    {
     "data": {
      "text/plain": [
       "31.63322715635918"
      ]
     },
     "execution_count": 49,
     "metadata": {},
     "output_type": "execute_result"
    }
   ],
   "source": [
    "(1/(10**(30.002870/-10)))**(0.5)"
   ]
  },
  {
   "cell_type": "code",
   "execution_count": 50,
   "metadata": {},
   "outputs": [
    {
     "data": {
      "text/html": [
       "<div>\n",
       "<style scoped>\n",
       "    .dataframe tbody tr th:only-of-type {\n",
       "        vertical-align: middle;\n",
       "    }\n",
       "\n",
       "    .dataframe tbody tr th {\n",
       "        vertical-align: top;\n",
       "    }\n",
       "\n",
       "    .dataframe thead th {\n",
       "        text-align: right;\n",
       "    }\n",
       "</style>\n",
       "<table border=\"1\" class=\"dataframe\">\n",
       "  <thead>\n",
       "    <tr style=\"text-align: right;\">\n",
       "      <th></th>\n",
       "      <th>level1</th>\n",
       "      <th>level2</th>\n",
       "      <th>level3</th>\n",
       "    </tr>\n",
       "  </thead>\n",
       "  <tbody>\n",
       "    <tr>\n",
       "      <th>A</th>\n",
       "      <td>30.323327</td>\n",
       "      <td>29.769381</td>\n",
       "      <td>29.398741</td>\n",
       "    </tr>\n",
       "    <tr>\n",
       "      <th>B</th>\n",
       "      <td>29.556410</td>\n",
       "      <td>30.239398</td>\n",
       "      <td>29.695643</td>\n",
       "    </tr>\n",
       "    <tr>\n",
       "      <th>C</th>\n",
       "      <td>30.031340</td>\n",
       "      <td>29.411499</td>\n",
       "      <td>30.048611</td>\n",
       "    </tr>\n",
       "    <tr>\n",
       "      <th>D</th>\n",
       "      <td>29.705768</td>\n",
       "      <td>29.887425</td>\n",
       "      <td>29.898257</td>\n",
       "    </tr>\n",
       "  </tbody>\n",
       "</table>\n",
       "</div>"
      ],
      "text/plain": [
       "      level1     level2     level3\n",
       "A  30.323327  29.769381  29.398741\n",
       "B  29.556410  30.239398  29.695643\n",
       "C  30.031340  29.411499  30.048611\n",
       "D  29.705768  29.887425  29.898257"
      ]
     },
     "execution_count": 50,
     "metadata": {},
     "output_type": "execute_result"
    }
   ],
   "source": [
    "seA = df4.groupby(\"A\").SN.mean()\n",
    "df4AA = seA.to_frame()\n",
    "df4A = df4AA.T\n",
    "df4A.columns = ['level1', 'level2', 'level3']\n",
    "df4A.index = ['A']\n",
    "##\n",
    "seB = df4.groupby(\"B\").SN.mean()\n",
    "df4BB = seB.to_frame()\n",
    "df4B = df4BB.T\n",
    "df4B.columns = ['level1', 'level2', 'level3']\n",
    "df4B.index = ['B']\n",
    "##\n",
    "seC = df4.groupby(\"C\").SN.mean()\n",
    "df4CC = seC.to_frame()\n",
    "df4C = df4CC.T\n",
    "df4C.columns = ['level1', 'level2', 'level3']\n",
    "df4C.index = ['C']\n",
    "##\n",
    "seD = df4.groupby(\"D\").SN.mean()\n",
    "df4DD = seD.to_frame()\n",
    "df4D = df4DD.T\n",
    "df4D.columns = ['level1', 'level2', 'level3']\n",
    "df4D.index = ['D']\n",
    "ANOVA4 = pd.concat([df4A, df4B,df4C,df4D],axis = 0)\n",
    "ANOVA4\n"
   ]
  },
  {
   "cell_type": "code",
   "execution_count": 51,
   "metadata": {},
   "outputs": [
    {
     "data": {
      "image/png": "[encoded data removed]",
      "text/plain": [
       "<Figure size 1080x288 with 4 Axes>"
      ]
     },
     "metadata": {
      "needs_background": "light"
     },
     "output_type": "display_data"
    }
   ],
   "source": [
    "#ANOVA4.to_excel(r'A:\\Users\\E2118\\Documents\\鄭景元\\3D\\python\\L9_回應表\\HRC回應表.xls')\n",
    "ANOVAP4 = ANOVA4.T.plot(kind='line',ylim=(29,30.5),subplots=True,figsize = (15,4),layout=(1,4),sharey=True,xticks=[0,1,2],fontsize = 18)"
   ]
  },
  {
   "cell_type": "code",
   "execution_count": 52,
   "metadata": {},
   "outputs": [
    {
     "data": {
      "text/plain": [
       "31.01814217839695"
      ]
     },
     "execution_count": 52,
     "metadata": {},
     "output_type": "execute_result"
    }
   ],
   "source": [
    "ANOVA4['max'] =ANOVA4.max(axis = 1)\n",
    "M4 = df4.loc[:,'SN'].mean()\n",
    "\n",
    "seANOVA4 = ANOVA4.loc[:,'max']\n",
    "dfANOVA4 = seANOVA4.to_frame()\n",
    "dfANOVA4.T\n",
    "A4max = dfANOVA4.T.loc['max','A']\n",
    "B4max = dfANOVA4.T.loc['max','B']\n",
    "C4max = dfANOVA4.T.loc['max','C']\n",
    "D4max = dfANOVA4.T.loc['max','D']\n",
    "bestSN4 = M4 + (A4max - M4) + (B4max - M4) + (C4max - M4) +(D4max-M4)\n",
    "best4 = (1/(10**(bestSN4/-10)))**(0.5)\n",
    "bestSN4\n"
   ]
  },
  {
   "cell_type": "code",
   "execution_count": 53,
   "metadata": {},
   "outputs": [
    {
     "data": {
      "text/html": [
       "<div>\n",
       "<style scoped>\n",
       "    .dataframe tbody tr th:only-of-type {\n",
       "        vertical-align: middle;\n",
       "    }\n",
       "\n",
       "    .dataframe tbody tr th {\n",
       "        vertical-align: top;\n",
       "    }\n",
       "\n",
       "    .dataframe thead th {\n",
       "        text-align: right;\n",
       "    }\n",
       "</style>\n",
       "<table border=\"1\" class=\"dataframe\">\n",
       "  <thead>\n",
       "    <tr style=\"text-align: right;\">\n",
       "      <th></th>\n",
       "      <th>level1</th>\n",
       "      <th>level2</th>\n",
       "      <th>level3</th>\n",
       "      <th>Mean square</th>\n",
       "      <th>F</th>\n",
       "      <th>Contribution(%)</th>\n",
       "    </tr>\n",
       "  </thead>\n",
       "  <tbody>\n",
       "    <tr>\n",
       "      <th>A</th>\n",
       "      <td>30.323327</td>\n",
       "      <td>29.769381</td>\n",
       "      <td>29.398741</td>\n",
       "      <td>1.299089</td>\n",
       "      <td>18.513876</td>\n",
       "      <td>44.168698</td>\n",
       "    </tr>\n",
       "    <tr>\n",
       "      <th>B</th>\n",
       "      <td>29.556410</td>\n",
       "      <td>30.239398</td>\n",
       "      <td>29.695643</td>\n",
       "      <td>0.781528</td>\n",
       "      <td>11.137889</td>\n",
       "      <td>26.571750</td>\n",
       "    </tr>\n",
       "    <tr>\n",
       "      <th>C</th>\n",
       "      <td>30.031340</td>\n",
       "      <td>29.411499</td>\n",
       "      <td>30.048611</td>\n",
       "      <td>0.790413</td>\n",
       "      <td>11.264516</td>\n",
       "      <td>26.873844</td>\n",
       "    </tr>\n",
       "    <tr>\n",
       "      <th>D</th>\n",
       "      <td>29.705768</td>\n",
       "      <td>29.887425</td>\n",
       "      <td>29.898257</td>\n",
       "      <td>0.070168</td>\n",
       "      <td>1.000000</td>\n",
       "      <td>2.385708</td>\n",
       "    </tr>\n",
       "  </tbody>\n",
       "</table>\n",
       "</div>"
      ],
      "text/plain": [
       "      level1     level2     level3  Mean square          F  Contribution(%)\n",
       "A  30.323327  29.769381  29.398741     1.299089  18.513876        44.168698\n",
       "B  29.556410  30.239398  29.695643     0.781528  11.137889        26.571750\n",
       "C  30.031340  29.411499  30.048611     0.790413  11.264516        26.873844\n",
       "D  29.705768  29.887425  29.898257     0.070168   1.000000         2.385708"
      ]
     },
     "execution_count": 53,
     "metadata": {},
     "output_type": "execute_result"
    }
   ],
   "source": [
    "df4['Mean square'] = (df4['SN']-M4)**2\n",
    "meanSQ =  df4.loc[:,'Mean square'].sum()\n",
    "meanSQ\n",
    "ANOVA4 = ANOVA4.drop('max',axis = 1)\n",
    "MA = ANOVA4.loc['A',:].mean()\n",
    "MB = ANOVA4.loc['B',:].mean()\n",
    "MC = ANOVA4.loc['C',:].mean()\n",
    "MD = ANOVA4.loc['D',:].mean()\n",
    "\n",
    "ANOVA4.loc['A','Mean square'] = 3*(ANOVA4.loc['A','level1']-MA)**2 + 3*(ANOVA4.loc['A','level2']-MA)**2 + 3*(ANOVA4.loc['A','level3']-MA)**2\n",
    "ANOVA4.loc['B','Mean square'] = 3*(ANOVA4.loc['B','level1']-MB)**2 + 3*(ANOVA4.loc['B','level2']-MB)**2 + 3*(ANOVA4.loc['B','level3']-MB)**2\n",
    "ANOVA4.loc['C','Mean square'] = 3*(ANOVA4.loc['C','level1']-MC)**2 + 3*(ANOVA4.loc['C','level2']-MC)**2 + 3*(ANOVA4.loc['C','level3']-MC)**2\n",
    "ANOVA4.loc['D','Mean square'] = 3*(ANOVA4.loc['D','level1']-MD)**2 + 3*(ANOVA4.loc['D','level2']-MD)**2 + 3*(ANOVA4.loc['D','level3']-MD)**2\n",
    "\n",
    "R4 = ANOVA4.loc['D','Mean square']\n",
    "ANOVA4['F'] = ANOVA4.apply(lambda x:(x['Mean square']/2)/(R4/2),axis = 1)\n",
    "\n",
    "ANOVA4['Contribution(%)'] = ANOVA4.apply(lambda x:x['Mean square']/meanSQ*100,axis = 1)\n",
    "ANOVA4.to_excel(r'A:\\Users\\E2118\\Documents\\鄭景元\\3D\\python\\L9_回應表\\硬度回應表n2.xlsx')\n",
    "ANOVA4\n"
   ]
  },
  {
   "cell_type": "code",
   "execution_count": 54,
   "metadata": {},
   "outputs": [
    {
     "name": "stdout",
     "output_type": "stream",
     "text": [
      "0.3546005190883445 0.4094574103008734\n"
     ]
    }
   ],
   "source": [
    "e1 = 31.6\n",
    "e2 = 31.7\n",
    "e3 = 31.6\n",
    "e = -10*math.log10((1/(e1)**2 + 1/(e2)**2 + 1/(e3)**2)/3)\n",
    "R = abs( (e - bestSN4)/bestSN4 )\n",
    "#預測值信賴區間 (Predicted Confidence Interval)\n",
    "CIp = abs(-1.96*(R)**(0.5))\n",
    "\n",
    "CIe = abs(-1.96*((R)**(0.5))*((1+1/3)**(0.5)))\n",
    "print(CIp,CIe)"
   ]
  },
  {
   "cell_type": "code",
   "execution_count": 56,
   "metadata": {},
   "outputs": [
    {
     "data": {
      "image/png": "[encoded data removed]",
      "text/plain": [
       "<Figure size 432x288 with 1 Axes>"
      ]
     },
     "metadata": {
      "needs_background": "light"
     },
     "output_type": "display_data"
    }
   ],
   "source": [
    "#barh_width = 100\n",
    "ind = numpy.arange(2)\n",
    "\n",
    "lowbar = 28 # x軸底線位置\n",
    "plt.barh('experiment S/N ratio', e-lowbar,  xerr = CIe,capsize = 20,left  = lowbar)\n",
    "plt.barh('predict S/N ratio', bestSN4-lowbar,  xerr = CIp,capsize = 20,left  = lowbar)\n",
    "\n",
    "\n",
    "\n",
    "\n",
    "plt.show()"
   ]
  },
  {
   "cell_type": "code",
   "execution_count": 46,
   "metadata": {},
   "outputs": [],
   "source": [
    "##以下PCA"
   ]
  },
  {
   "cell_type": "markdown",
   "metadata": {},
   "source": [
    "## PCA 流程\n",
    "* 先將PCA模型根據其資料維度(成分數量)建起\n",
    "* 資料降維\n",
    "* 資料正規化\n",
    "* 從模型取得 EIGENVECTOR\n",
    "* 正規化資料與轉置 EIGENVECTOR 內積，得出各個向量貢獻程度\n",
    "* 最後從訓練的 PCA 模型得出 explained variance 組合，得到各個成分貢獻程度"
   ]
  },
  {
   "cell_type": "code",
   "execution_count": 96,
   "metadata": {
    "collapsed": true
   },
   "outputs": [
    {
     "data": {
      "text/html": [
       "<div>\n",
       "<style scoped>\n",
       "    .dataframe tbody tr th:only-of-type {\n",
       "        vertical-align: middle;\n",
       "    }\n",
       "\n",
       "    .dataframe tbody tr th {\n",
       "        vertical-align: top;\n",
       "    }\n",
       "\n",
       "    .dataframe thead th {\n",
       "        text-align: right;\n",
       "    }\n",
       "</style>\n",
       "<table border=\"1\" class=\"dataframe\">\n",
       "  <thead>\n",
       "    <tr style=\"text-align: right;\">\n",
       "      <th></th>\n",
       "      <th>編號</th>\n",
       "      <th>X1</th>\n",
       "      <th>X2</th>\n",
       "      <th>X3</th>\n",
       "      <th>SN</th>\n",
       "      <th>A</th>\n",
       "      <th>B</th>\n",
       "      <th>C</th>\n",
       "      <th>D</th>\n",
       "      <th>Mean square</th>\n",
       "    </tr>\n",
       "  </thead>\n",
       "  <tbody>\n",
       "    <tr>\n",
       "      <th>0</th>\n",
       "      <td>1</td>\n",
       "      <td>85.083006</td>\n",
       "      <td>83.658022</td>\n",
       "      <td>80.820625</td>\n",
       "      <td>38.395156</td>\n",
       "      <td>1</td>\n",
       "      <td>1</td>\n",
       "      <td>1</td>\n",
       "      <td>1</td>\n",
       "      <td>1.038980</td>\n",
       "    </tr>\n",
       "    <tr>\n",
       "      <th>1</th>\n",
       "      <td>2</td>\n",
       "      <td>73.805499</td>\n",
       "      <td>73.805499</td>\n",
       "      <td>73.805499</td>\n",
       "      <td>37.361774</td>\n",
       "      <td>1</td>\n",
       "      <td>2</td>\n",
       "      <td>2</td>\n",
       "      <td>2</td>\n",
       "      <td>0.000198</td>\n",
       "    </tr>\n",
       "    <tr>\n",
       "      <th>2</th>\n",
       "      <td>3</td>\n",
       "      <td>64.193252</td>\n",
       "      <td>57.494370</td>\n",
       "      <td>61.496070</td>\n",
       "      <td>35.688420</td>\n",
       "      <td>1</td>\n",
       "      <td>3</td>\n",
       "      <td>3</td>\n",
       "      <td>3</td>\n",
       "      <td>2.847427</td>\n",
       "    </tr>\n",
       "    <tr>\n",
       "      <th>3</th>\n",
       "      <td>4</td>\n",
       "      <td>65.550350</td>\n",
       "      <td>71.033039</td>\n",
       "      <td>69.654430</td>\n",
       "      <td>36.729619</td>\n",
       "      <td>2</td>\n",
       "      <td>3</td>\n",
       "      <td>2</td>\n",
       "      <td>1</td>\n",
       "      <td>0.417618</td>\n",
       "    </tr>\n",
       "    <tr>\n",
       "      <th>4</th>\n",
       "      <td>5</td>\n",
       "      <td>79.408429</td>\n",
       "      <td>79.408429</td>\n",
       "      <td>76.597579</td>\n",
       "      <td>37.890462</td>\n",
       "      <td>2</td>\n",
       "      <td>1</td>\n",
       "      <td>3</td>\n",
       "      <td>2</td>\n",
       "      <td>0.264823</td>\n",
       "    </tr>\n",
       "    <tr>\n",
       "      <th>5</th>\n",
       "      <td>6</td>\n",
       "      <td>73.805499</td>\n",
       "      <td>71.033039</td>\n",
       "      <td>69.654430</td>\n",
       "      <td>37.078331</td>\n",
       "      <td>2</td>\n",
       "      <td>2</td>\n",
       "      <td>1</td>\n",
       "      <td>3</td>\n",
       "      <td>0.088519</td>\n",
       "    </tr>\n",
       "    <tr>\n",
       "      <th>6</th>\n",
       "      <td>7</td>\n",
       "      <td>79.408429</td>\n",
       "      <td>78.000711</td>\n",
       "      <td>79.408429</td>\n",
       "      <td>37.944925</td>\n",
       "      <td>3</td>\n",
       "      <td>2</td>\n",
       "      <td>3</td>\n",
       "      <td>1</td>\n",
       "      <td>0.323844</td>\n",
       "    </tr>\n",
       "    <tr>\n",
       "      <th>7</th>\n",
       "      <td>8</td>\n",
       "      <td>76.597579</td>\n",
       "      <td>75.199140</td>\n",
       "      <td>73.805499</td>\n",
       "      <td>37.521448</td>\n",
       "      <td>3</td>\n",
       "      <td>3</td>\n",
       "      <td>1</td>\n",
       "      <td>2</td>\n",
       "      <td>0.021198</td>\n",
       "    </tr>\n",
       "    <tr>\n",
       "      <th>8</th>\n",
       "      <td>9</td>\n",
       "      <td>78.000711</td>\n",
       "      <td>80.820625</td>\n",
       "      <td>73.805499</td>\n",
       "      <td>37.772537</td>\n",
       "      <td>3</td>\n",
       "      <td>1</td>\n",
       "      <td>2</td>\n",
       "      <td>3</td>\n",
       "      <td>0.157358</td>\n",
       "    </tr>\n",
       "  </tbody>\n",
       "</table>\n",
       "</div>"
      ],
      "text/plain": [
       "   編號         X1         X2         X3         SN  A  B  C  D  Mean square\n",
       "0   1  85.083006  83.658022  80.820625  38.395156  1  1  1  1     1.038980\n",
       "1   2  73.805499  73.805499  73.805499  37.361774  1  2  2  2     0.000198\n",
       "2   3  64.193252  57.494370  61.496070  35.688420  1  3  3  3     2.847427\n",
       "3   4  65.550350  71.033039  69.654430  36.729619  2  3  2  1     0.417618\n",
       "4   5  79.408429  79.408429  76.597579  37.890462  2  1  3  2     0.264823\n",
       "5   6  73.805499  71.033039  69.654430  37.078331  2  2  1  3     0.088519\n",
       "6   7  79.408429  78.000711  79.408429  37.944925  3  2  3  1     0.323844\n",
       "7   8  76.597579  75.199140  73.805499  37.521448  3  3  1  2     0.021198\n",
       "8   9  78.000711  80.820625  73.805499  37.772537  3  1  2  3     0.157358"
      ]
     },
     "execution_count": 96,
     "metadata": {},
     "output_type": "execute_result"
    }
   ],
   "source": [
    "df"
   ]
  },
  {
   "cell_type": "code",
   "execution_count": 62,
   "metadata": {
    "collapsed": true
   },
   "outputs": [
    {
     "data": {
      "text/plain": [
       "array([[38.39515596, 60.18795054, 28.99715712, 30.12539551],\n",
       "       [37.36177442, 61.04877811, 27.01515777, 30.37019904],\n",
       "       [35.68842029, 60.59084712, 27.50623697, 30.47438708],\n",
       "       [36.72961913, 60.05604209, 28.18094009, 29.09084103],\n",
       "       [37.89046169, 61.05693529, 27.21759166, 29.77037694],\n",
       "       [37.07833087, 60.35767604, 28.21298519, 30.44692614],\n",
       "       [37.94492519, 59.82261538, 28.60752832, 29.90106776],\n",
       "       [37.52144824, 60.87848068, 26.94619928, 29.52169954],\n",
       "       [37.77253663, 60.54043989, 28.15478532, 28.77345644]])"
      ]
     },
     "execution_count": 62,
     "metadata": {},
     "output_type": "execute_result"
    }
   ],
   "source": [
    "#四個成分訊雜比中取最大，因為望大\n",
    "#衝擊\n",
    "X1 = df.loc[:, ['SN']].values\n",
    "#L9_拉伸\n",
    "X2 = df2.loc[:, ['SN']].values\n",
    "#伸長率\n",
    "X3 = df3.loc[:, ['SN']].values\n",
    "#HRC硬度的訊雜比\n",
    "X4 = df4.loc[:, ['SN']].values\n",
    "X = numpy.hstack((X1,X2,X3,X4))\n",
    "#scaler = sklearn.preprocessing.MinMaxScaler().fit(X)\n",
    "X"
   ]
  },
  {
   "cell_type": "code",
   "execution_count": 109,
   "metadata": {
    "collapsed": true
   },
   "outputs": [
    {
     "data": {
      "text/plain": [
       "PCA(copy=True, iterated_power='auto', n_components=4, random_state=None,\n",
       "  svd_solver='auto', tol=0.0, whiten=False)"
      ]
     },
     "execution_count": 109,
     "metadata": {},
     "output_type": "execute_result"
    }
   ],
   "source": [
    "PCA(n_components=4)"
   ]
  },
  {
   "cell_type": "code",
   "execution_count": 100,
   "metadata": {},
   "outputs": [],
   "source": [
    "scaler = StandardScaler().fit(X)\n",
    "X = scaler.transform(X)\n",
    "pca = PCA(n_components=4)\n",
    "#訓練模型\n",
    "data_pca = pca.fit_transform(X)"
   ]
  },
  {
   "cell_type": "code",
   "execution_count": 101,
   "metadata": {},
   "outputs": [
    {
     "data": {
      "text/plain": [
       "StandardScaler(copy=True, with_mean=True, with_std=True)"
      ]
     },
     "execution_count": 101,
     "metadata": {},
     "output_type": "execute_result"
    }
   ],
   "source": [
    "StandardScaler().fit(X)"
   ]
  },
  {
   "cell_type": "code",
   "execution_count": 59,
   "metadata": {
    "collapsed": true
   },
   "outputs": [
    {
     "ename": "SyntaxError",
     "evalue": "EOF while scanning triple-quoted string literal (<ipython-input-59-c453683aca38>, line 14)",
     "output_type": "error",
     "traceback": [
      "\u001b[1;36m  File \u001b[1;32m\"<ipython-input-59-c453683aca38>\"\u001b[1;36m, line \u001b[1;32m14\u001b[0m\n\u001b[1;33m    data_pca = pca.fit_transform(X)\u001b[0m\n\u001b[1;37m                                   \n^\u001b[0m\n\u001b[1;31mSyntaxError\u001b[0m\u001b[1;31m:\u001b[0m EOF while scanning triple-quoted string literal\n"
     ]
    }
   ],
   "source": [
    "\"\"\"X = [[ 0.851, 0.283,  0.739],\n",
    "       [1 , 0 , 0.178  ],\n",
    "       [0 , 1 , 1],\n",
    "       [0.673, 0.454,  0.688],\n",
    "       [ 0.485,  0.704, 0.091],\n",
    "       [0.554, 0.5,  0.199],\n",
    "       [0.990, 0.092,  0],\n",
    "       [ 0.960,  .750, 0.348],\n",
    "       [ .267,  0.901,  0.663]]\n",
    "#scaler = sklearn.preprocessing.MinMaxScaler().fit(X)\n",
    "#scaler = StandardScaler().fit(X)\n",
    "#X = scaler.transform(X)\n",
    "pca = PCA(n_components=3)\n",
    "data_pca = pca.fit_transform(X)"
   ]
  },
  {
   "cell_type": "code",
   "execution_count": 102,
   "metadata": {},
   "outputs": [
    {
     "data": {
      "text/plain": [
       "array([[ 1.3461746 , -0.76557962,  1.63848697,  0.51588375],\n",
       "       [-0.01859264,  1.31688194, -1.245077  ,  0.94411338],\n",
       "       [-2.22855945,  0.20908321, -0.53061749,  1.12636733],\n",
       "       [-0.85346805, -1.0846845 ,  0.45099213, -1.29384056],\n",
       "       [ 0.67963453,  1.33661528, -0.95056073, -0.10514275],\n",
       "       [-0.39293111, -0.35499004,  0.49761378,  1.07833048],\n",
       "       [ 0.75156344, -1.64937617,  1.07162525,  0.12347195],\n",
       "       [ 0.19228552,  0.90490877, -1.34540308, -0.54014887],\n",
       "       [ 0.52389316,  0.08714112,  0.41294017, -1.84903471]])"
      ]
     },
     "execution_count": 102,
     "metadata": {},
     "output_type": "execute_result"
    }
   ],
   "source": [
    "#正規化後的母資料\n",
    "X"
   ]
  },
  {
   "cell_type": "code",
   "execution_count": 65,
   "metadata": {},
   "outputs": [
    {
     "name": "stdout",
     "output_type": "stream",
     "text": [
      "[[ 0.31173402 -0.63474288  0.67444066 -0.21225732]\n",
      " [-0.61804411 -0.32888194  0.19254015  0.68759468]\n",
      " [-0.68505376 -0.21286574 -0.10065873 -0.68938911]\n",
      " [ 0.22703466 -0.66605279 -0.70563865  0.08308452]]\n"
     ]
    }
   ],
   "source": [
    "eigenvector = pca.components_\n",
    "print(eigenvector)\n"
   ]
  },
  {
   "cell_type": "code",
   "execution_count": 66,
   "metadata": {},
   "outputs": [
    {
     "data": {
      "text/html": [
       "<div>\n",
       "<style scoped>\n",
       "    .dataframe tbody tr th:only-of-type {\n",
       "        vertical-align: middle;\n",
       "    }\n",
       "\n",
       "    .dataframe tbody tr th {\n",
       "        vertical-align: top;\n",
       "    }\n",
       "\n",
       "    .dataframe thead th {\n",
       "        text-align: right;\n",
       "    }\n",
       "</style>\n",
       "<table border=\"1\" class=\"dataframe\">\n",
       "  <thead>\n",
       "    <tr style=\"text-align: right;\">\n",
       "      <th></th>\n",
       "      <th>衝擊韌性</th>\n",
       "      <th>抗拉強度</th>\n",
       "      <th>伸長率</th>\n",
       "      <th>HRC</th>\n",
       "    </tr>\n",
       "  </thead>\n",
       "  <tbody>\n",
       "    <tr>\n",
       "      <th>V1</th>\n",
       "      <td>-0.311734</td>\n",
       "      <td>0.634743</td>\n",
       "      <td>-0.674441</td>\n",
       "      <td>0.212257</td>\n",
       "    </tr>\n",
       "    <tr>\n",
       "      <th>V2</th>\n",
       "      <td>0.618044</td>\n",
       "      <td>0.328882</td>\n",
       "      <td>-0.192540</td>\n",
       "      <td>-0.687595</td>\n",
       "    </tr>\n",
       "    <tr>\n",
       "      <th>V3</th>\n",
       "      <td>0.685054</td>\n",
       "      <td>0.212866</td>\n",
       "      <td>0.100659</td>\n",
       "      <td>0.689389</td>\n",
       "    </tr>\n",
       "    <tr>\n",
       "      <th>V4</th>\n",
       "      <td>-0.227035</td>\n",
       "      <td>0.666053</td>\n",
       "      <td>0.705639</td>\n",
       "      <td>-0.083085</td>\n",
       "    </tr>\n",
       "  </tbody>\n",
       "</table>\n",
       "</div>"
      ],
      "text/plain": [
       "        衝擊韌性      抗拉強度       伸長率       HRC\n",
       "V1 -0.311734  0.634743 -0.674441  0.212257\n",
       "V2  0.618044  0.328882 -0.192540 -0.687595\n",
       "V3  0.685054  0.212866  0.100659  0.689389\n",
       "V4 -0.227035  0.666053  0.705639 -0.083085"
      ]
     },
     "execution_count": 66,
     "metadata": {},
     "output_type": "execute_result"
    }
   ],
   "source": [
    "#模型訓練完後的EIGENVECTOR\n",
    "Y = - (eigenvector)\n",
    "\"\"\"\"I = [[1,0,0,0],\n",
    "     [0,1,0,0],\n",
    "     [0,0,1,0],\n",
    "     [0,0,0,-1]\n",
    "    ]\n",
    "Y = numpy.dot(I,Y)\"\"\"\n",
    "eigenV = pd.DataFrame(Y,index=['V1','V2','V3','V4'],columns = ['衝擊韌性','抗拉強度','伸長率','HRC'])\n",
    "\n",
    "\n",
    "\n",
    "#eigenV.to_excel(r'A:\\Users\\E2118\\Documents\\鄭景元\\3D\\python\\L9_回應表\\PCA特徵向量n.xlsx')\n",
    "eigenV"
   ]
  },
  {
   "cell_type": "code",
   "execution_count": 67,
   "metadata": {},
   "outputs": [],
   "source": [
    "Y = numpy.transpose(Y)\n",
    "#要放後面內積所以要transpose"
   ]
  },
  {
   "cell_type": "code",
   "execution_count": 112,
   "metadata": {},
   "outputs": [
    {
     "data": {
      "text/plain": [
       "array([[-1.90115676, -0.08998349,  1.27980895,  0.29777306],\n",
       "       [ 1.88180293,  0.01216759,  0.79311571, -0.0756816 ],\n",
       "       [ 1.42438159, -1.98090335, -0.75908228,  0.17721279],\n",
       "       [-1.0012353 , -0.08141024, -1.66212697, -0.10295471],\n",
       "       [ 1.25532132,  1.11494944,  0.58193929,  0.07393909],\n",
       "       [-0.20956483, -1.1968635 ,  0.44873431,  0.11430982],\n",
       "       [-1.97775749, -0.36918023,  0.35675433, -0.52328095],\n",
       "       [ 1.30718645,  1.04689668, -0.18344932, -0.34542888],\n",
       "       [-0.77897791,  1.54432709, -0.85569403,  0.38411139]])"
      ]
     },
     "execution_count": 112,
     "metadata": {},
     "output_type": "execute_result"
    }
   ],
   "source": [
    "Z=numpy.dot(X,Y)\n",
    "numpy.set_printoptions(linewidth=100)\n",
    "#與特徵轉置向量內積得正交值\n",
    "Z"
   ]
  },
  {
   "cell_type": "code",
   "execution_count": 69,
   "metadata": {},
   "outputs": [],
   "source": [
    "PCA_result = pd.DataFrame(Z,index=['1','2','3','4','5','6','7','8','9'],columns = ['PC1','PC2','PC3','PC4'])\n",
    "PCA_result.to_excel(r'A:\\Users\\E2118\\Documents\\鄭景元\\3D\\python\\L9_回應表\\PCA結果(四目標).xlsx')"
   ]
  },
  {
   "cell_type": "code",
   "execution_count": 113,
   "metadata": {},
   "outputs": [
    {
     "data": {
      "text/html": [
       "<div>\n",
       "<style scoped>\n",
       "    .dataframe tbody tr th:only-of-type {\n",
       "        vertical-align: middle;\n",
       "    }\n",
       "\n",
       "    .dataframe tbody tr th {\n",
       "        vertical-align: top;\n",
       "    }\n",
       "\n",
       "    .dataframe thead th {\n",
       "        text-align: right;\n",
       "    }\n",
       "</style>\n",
       "<table border=\"1\" class=\"dataframe\">\n",
       "  <thead>\n",
       "    <tr style=\"text-align: right;\">\n",
       "      <th></th>\n",
       "      <th>PC1</th>\n",
       "      <th>PC2</th>\n",
       "      <th>PC3</th>\n",
       "      <th>PC4</th>\n",
       "    </tr>\n",
       "  </thead>\n",
       "  <tbody>\n",
       "    <tr>\n",
       "      <th>1</th>\n",
       "      <td>-1.901157</td>\n",
       "      <td>-0.089983</td>\n",
       "      <td>1.279809</td>\n",
       "      <td>0.297773</td>\n",
       "    </tr>\n",
       "    <tr>\n",
       "      <th>2</th>\n",
       "      <td>1.881803</td>\n",
       "      <td>0.012168</td>\n",
       "      <td>0.793116</td>\n",
       "      <td>-0.075682</td>\n",
       "    </tr>\n",
       "    <tr>\n",
       "      <th>3</th>\n",
       "      <td>1.424382</td>\n",
       "      <td>-1.980903</td>\n",
       "      <td>-0.759082</td>\n",
       "      <td>0.177213</td>\n",
       "    </tr>\n",
       "    <tr>\n",
       "      <th>4</th>\n",
       "      <td>-1.001235</td>\n",
       "      <td>-0.081410</td>\n",
       "      <td>-1.662127</td>\n",
       "      <td>-0.102955</td>\n",
       "    </tr>\n",
       "    <tr>\n",
       "      <th>5</th>\n",
       "      <td>1.255321</td>\n",
       "      <td>1.114949</td>\n",
       "      <td>0.581939</td>\n",
       "      <td>0.073939</td>\n",
       "    </tr>\n",
       "    <tr>\n",
       "      <th>6</th>\n",
       "      <td>-0.209565</td>\n",
       "      <td>-1.196864</td>\n",
       "      <td>0.448734</td>\n",
       "      <td>0.114310</td>\n",
       "    </tr>\n",
       "    <tr>\n",
       "      <th>7</th>\n",
       "      <td>-1.977757</td>\n",
       "      <td>-0.369180</td>\n",
       "      <td>0.356754</td>\n",
       "      <td>-0.523281</td>\n",
       "    </tr>\n",
       "    <tr>\n",
       "      <th>8</th>\n",
       "      <td>1.307186</td>\n",
       "      <td>1.046897</td>\n",
       "      <td>-0.183449</td>\n",
       "      <td>-0.345429</td>\n",
       "    </tr>\n",
       "    <tr>\n",
       "      <th>9</th>\n",
       "      <td>-0.778978</td>\n",
       "      <td>1.544327</td>\n",
       "      <td>-0.855694</td>\n",
       "      <td>0.384111</td>\n",
       "    </tr>\n",
       "  </tbody>\n",
       "</table>\n",
       "</div>"
      ],
      "text/plain": [
       "        PC1       PC2       PC3       PC4\n",
       "1 -1.901157 -0.089983  1.279809  0.297773\n",
       "2  1.881803  0.012168  0.793116 -0.075682\n",
       "3  1.424382 -1.980903 -0.759082  0.177213\n",
       "4 -1.001235 -0.081410 -1.662127 -0.102955\n",
       "5  1.255321  1.114949  0.581939  0.073939\n",
       "6 -0.209565 -1.196864  0.448734  0.114310\n",
       "7 -1.977757 -0.369180  0.356754 -0.523281\n",
       "8  1.307186  1.046897 -0.183449 -0.345429\n",
       "9 -0.778978  1.544327 -0.855694  0.384111"
      ]
     },
     "execution_count": 113,
     "metadata": {},
     "output_type": "execute_result"
    }
   ],
   "source": [
    "#每個不同訊雜比的貢獻度\n",
    "PCA_result "
   ]
  },
  {
   "cell_type": "code",
   "execution_count": 108,
   "metadata": {},
   "outputs": [
    {
     "name": "stdout",
     "output_type": "stream",
     "text": [
      "1.0\n",
      "                      K1        K2        K3        K4\n",
      "variance_ratio  0.500937  0.284213  0.195527  0.019323\n"
     ]
    }
   ],
   "source": [
    "#從訓練的模型得出合理的變異數比例分布\n",
    "dfP=pca.explained_variance_ratio_\n",
    "dfP = pd.DataFrame([dfP], columns = ['K1', 'K2', 'K3','K4'],index = ['variance_ratio'])\n",
    "#dfP.to_excel(r'A:\\Users\\E2118\\Documents\\鄭景元\\3D\\python\\L9_回應表\\PCA寄予率(四目標)n.xlsx')\n",
    "\n",
    "print(0.500937+0.284213+0.195527+0.019323)\n",
    "print(dfP)"
   ]
  },
  {
   "cell_type": "markdown",
   "metadata": {},
   "source": [
    "### 以上PCA"
   ]
  },
  {
   "cell_type": "code",
   "execution_count": 111,
   "metadata": {},
   "outputs": [
    {
     "data": {
      "text/plain": [
       "0.5009369750040691"
      ]
     },
     "execution_count": 111,
     "metadata": {},
     "output_type": "execute_result"
    }
   ],
   "source": [
    "P1=dfP.at['variance_ratio', 'K1']\n",
    "P2=dfP.at['variance_ratio', 'K2']\n",
    "P3=dfP.at['variance_ratio', 'K3']\n",
    "P4=dfP.at['variance_ratio', 'K4']\n",
    "P1"
   ]
  },
  {
   "cell_type": "code",
   "execution_count": 74,
   "metadata": {},
   "outputs": [
    {
     "data": {
      "text/html": [
       "<div>\n",
       "<style scoped>\n",
       "    .dataframe tbody tr th:only-of-type {\n",
       "        vertical-align: middle;\n",
       "    }\n",
       "\n",
       "    .dataframe tbody tr th {\n",
       "        vertical-align: top;\n",
       "    }\n",
       "\n",
       "    .dataframe thead th {\n",
       "        text-align: right;\n",
       "    }\n",
       "</style>\n",
       "<table border=\"1\" class=\"dataframe\">\n",
       "  <thead>\n",
       "    <tr style=\"text-align: right;\">\n",
       "      <th></th>\n",
       "      <th>K1</th>\n",
       "      <th>K2</th>\n",
       "      <th>K3</th>\n",
       "      <th>K4</th>\n",
       "      <th>SN</th>\n",
       "    </tr>\n",
       "  </thead>\n",
       "  <tbody>\n",
       "    <tr>\n",
       "      <th>0</th>\n",
       "      <td>-1.901157</td>\n",
       "      <td>-0.089983</td>\n",
       "      <td>1.279809</td>\n",
       "      <td>0.297773</td>\n",
       "      <td>0</td>\n",
       "    </tr>\n",
       "    <tr>\n",
       "      <th>1</th>\n",
       "      <td>1.881803</td>\n",
       "      <td>0.012168</td>\n",
       "      <td>0.793116</td>\n",
       "      <td>-0.075682</td>\n",
       "      <td>0</td>\n",
       "    </tr>\n",
       "    <tr>\n",
       "      <th>2</th>\n",
       "      <td>1.424382</td>\n",
       "      <td>-1.980903</td>\n",
       "      <td>-0.759082</td>\n",
       "      <td>0.177213</td>\n",
       "      <td>0</td>\n",
       "    </tr>\n",
       "    <tr>\n",
       "      <th>3</th>\n",
       "      <td>-1.001235</td>\n",
       "      <td>-0.081410</td>\n",
       "      <td>-1.662127</td>\n",
       "      <td>-0.102955</td>\n",
       "      <td>0</td>\n",
       "    </tr>\n",
       "    <tr>\n",
       "      <th>4</th>\n",
       "      <td>1.255321</td>\n",
       "      <td>1.114949</td>\n",
       "      <td>0.581939</td>\n",
       "      <td>0.073939</td>\n",
       "      <td>0</td>\n",
       "    </tr>\n",
       "    <tr>\n",
       "      <th>5</th>\n",
       "      <td>-0.209565</td>\n",
       "      <td>-1.196864</td>\n",
       "      <td>0.448734</td>\n",
       "      <td>0.114310</td>\n",
       "      <td>0</td>\n",
       "    </tr>\n",
       "    <tr>\n",
       "      <th>6</th>\n",
       "      <td>-1.977757</td>\n",
       "      <td>-0.369180</td>\n",
       "      <td>0.356754</td>\n",
       "      <td>-0.523281</td>\n",
       "      <td>0</td>\n",
       "    </tr>\n",
       "    <tr>\n",
       "      <th>7</th>\n",
       "      <td>1.307186</td>\n",
       "      <td>1.046897</td>\n",
       "      <td>-0.183449</td>\n",
       "      <td>-0.345429</td>\n",
       "      <td>0</td>\n",
       "    </tr>\n",
       "    <tr>\n",
       "      <th>8</th>\n",
       "      <td>-0.778978</td>\n",
       "      <td>1.544327</td>\n",
       "      <td>-0.855694</td>\n",
       "      <td>0.384111</td>\n",
       "      <td>0</td>\n",
       "    </tr>\n",
       "  </tbody>\n",
       "</table>\n",
       "</div>"
      ],
      "text/plain": [
       "         K1        K2        K3        K4  SN\n",
       "0 -1.901157 -0.089983  1.279809  0.297773   0\n",
       "1  1.881803  0.012168  0.793116 -0.075682   0\n",
       "2  1.424382 -1.980903 -0.759082  0.177213   0\n",
       "3 -1.001235 -0.081410 -1.662127 -0.102955   0\n",
       "4  1.255321  1.114949  0.581939  0.073939   0\n",
       "5 -0.209565 -1.196864  0.448734  0.114310   0\n",
       "6 -1.977757 -0.369180  0.356754 -0.523281   0\n",
       "7  1.307186  1.046897 -0.183449 -0.345429   0\n",
       "8 -0.778978  1.544327 -0.855694  0.384111   0"
      ]
     },
     "execution_count": 74,
     "metadata": {},
     "output_type": "execute_result"
    }
   ],
   "source": [
    "dfPCA = pd.DataFrame(Z,columns=['K1','K2','K3','K4'])\n",
    "dfPCA['SN'] = 0\n",
    "dfPCA"
   ]
  },
  {
   "cell_type": "code",
   "execution_count": 75,
   "metadata": {},
   "outputs": [],
   "source": [
    "dfPCA['SN'] = dfPCA.apply(lambda x: x['K1']*P1 + x['K2']*P2 + x['K3']*P3 + x['K4']*P4 , axis=1)"
   ]
  },
  {
   "cell_type": "code",
   "execution_count": 61,
   "metadata": {},
   "outputs": [],
   "source": [
    "#dfPCA.to_excel(r'A:\\Users\\E2118\\Documents\\鄭景元\\3D\\python\\L9_回應表\\PCA綜合指標(四目標)n.xlsx')"
   ]
  },
  {
   "cell_type": "code",
   "execution_count": 114,
   "metadata": {},
   "outputs": [
    {
     "data": {
      "text/html": [
       "<div>\n",
       "<style scoped>\n",
       "    .dataframe tbody tr th:only-of-type {\n",
       "        vertical-align: middle;\n",
       "    }\n",
       "\n",
       "    .dataframe tbody tr th {\n",
       "        vertical-align: top;\n",
       "    }\n",
       "\n",
       "    .dataframe thead th {\n",
       "        text-align: right;\n",
       "    }\n",
       "</style>\n",
       "<table border=\"1\" class=\"dataframe\">\n",
       "  <thead>\n",
       "    <tr style=\"text-align: right;\">\n",
       "      <th></th>\n",
       "      <th>K1</th>\n",
       "      <th>K2</th>\n",
       "      <th>K3</th>\n",
       "      <th>K4</th>\n",
       "      <th>SN</th>\n",
       "      <th>A</th>\n",
       "      <th>B</th>\n",
       "      <th>C</th>\n",
       "      <th>D</th>\n",
       "      <th>Mean square</th>\n",
       "    </tr>\n",
       "  </thead>\n",
       "  <tbody>\n",
       "    <tr>\n",
       "      <th>0</th>\n",
       "      <td>-1.901157</td>\n",
       "      <td>-0.089983</td>\n",
       "      <td>1.279809</td>\n",
       "      <td>0.297773</td>\n",
       "      <td>-0.721943</td>\n",
       "      <td>1</td>\n",
       "      <td>1</td>\n",
       "      <td>1</td>\n",
       "      <td>1</td>\n",
       "      <td>0.521202</td>\n",
       "    </tr>\n",
       "    <tr>\n",
       "      <th>1</th>\n",
       "      <td>1.881803</td>\n",
       "      <td>0.012168</td>\n",
       "      <td>0.793116</td>\n",
       "      <td>-0.075682</td>\n",
       "      <td>1.099736</td>\n",
       "      <td>1</td>\n",
       "      <td>2</td>\n",
       "      <td>2</td>\n",
       "      <td>2</td>\n",
       "      <td>1.209419</td>\n",
       "    </tr>\n",
       "    <tr>\n",
       "      <th>2</th>\n",
       "      <td>1.424382</td>\n",
       "      <td>-1.980903</td>\n",
       "      <td>-0.759082</td>\n",
       "      <td>0.177213</td>\n",
       "      <td>0.005530</td>\n",
       "      <td>1</td>\n",
       "      <td>3</td>\n",
       "      <td>3</td>\n",
       "      <td>3</td>\n",
       "      <td>0.000031</td>\n",
       "    </tr>\n",
       "    <tr>\n",
       "      <th>3</th>\n",
       "      <td>-1.001235</td>\n",
       "      <td>-0.081410</td>\n",
       "      <td>-1.662127</td>\n",
       "      <td>-0.102955</td>\n",
       "      <td>-0.851674</td>\n",
       "      <td>2</td>\n",
       "      <td>3</td>\n",
       "      <td>2</td>\n",
       "      <td>1</td>\n",
       "      <td>0.725348</td>\n",
       "    </tr>\n",
       "    <tr>\n",
       "      <th>4</th>\n",
       "      <td>1.255321</td>\n",
       "      <td>1.114949</td>\n",
       "      <td>0.581939</td>\n",
       "      <td>0.073939</td>\n",
       "      <td>1.060934</td>\n",
       "      <td>2</td>\n",
       "      <td>1</td>\n",
       "      <td>3</td>\n",
       "      <td>2</td>\n",
       "      <td>1.125581</td>\n",
       "    </tr>\n",
       "    <tr>\n",
       "      <th>5</th>\n",
       "      <td>-0.209565</td>\n",
       "      <td>-1.196864</td>\n",
       "      <td>0.448734</td>\n",
       "      <td>0.114310</td>\n",
       "      <td>-0.355195</td>\n",
       "      <td>2</td>\n",
       "      <td>2</td>\n",
       "      <td>1</td>\n",
       "      <td>3</td>\n",
       "      <td>0.126163</td>\n",
       "    </tr>\n",
       "    <tr>\n",
       "      <th>6</th>\n",
       "      <td>-1.977757</td>\n",
       "      <td>-0.369180</td>\n",
       "      <td>0.356754</td>\n",
       "      <td>-0.523281</td>\n",
       "      <td>-1.036014</td>\n",
       "      <td>3</td>\n",
       "      <td>2</td>\n",
       "      <td>3</td>\n",
       "      <td>1</td>\n",
       "      <td>1.073325</td>\n",
       "    </tr>\n",
       "    <tr>\n",
       "      <th>7</th>\n",
       "      <td>1.307186</td>\n",
       "      <td>1.046897</td>\n",
       "      <td>-0.183449</td>\n",
       "      <td>-0.345429</td>\n",
       "      <td>0.909816</td>\n",
       "      <td>3</td>\n",
       "      <td>3</td>\n",
       "      <td>1</td>\n",
       "      <td>2</td>\n",
       "      <td>0.827765</td>\n",
       "    </tr>\n",
       "    <tr>\n",
       "      <th>8</th>\n",
       "      <td>-0.778978</td>\n",
       "      <td>1.544327</td>\n",
       "      <td>-0.855694</td>\n",
       "      <td>0.384111</td>\n",
       "      <td>-0.111190</td>\n",
       "      <td>3</td>\n",
       "      <td>1</td>\n",
       "      <td>2</td>\n",
       "      <td>3</td>\n",
       "      <td>0.012363</td>\n",
       "    </tr>\n",
       "  </tbody>\n",
       "</table>\n",
       "</div>"
      ],
      "text/plain": [
       "         K1        K2        K3        K4        SN  A  B  C  D  Mean square\n",
       "0 -1.901157 -0.089983  1.279809  0.297773 -0.721943  1  1  1  1     0.521202\n",
       "1  1.881803  0.012168  0.793116 -0.075682  1.099736  1  2  2  2     1.209419\n",
       "2  1.424382 -1.980903 -0.759082  0.177213  0.005530  1  3  3  3     0.000031\n",
       "3 -1.001235 -0.081410 -1.662127 -0.102955 -0.851674  2  3  2  1     0.725348\n",
       "4  1.255321  1.114949  0.581939  0.073939  1.060934  2  1  3  2     1.125581\n",
       "5 -0.209565 -1.196864  0.448734  0.114310 -0.355195  2  2  1  3     0.126163\n",
       "6 -1.977757 -0.369180  0.356754 -0.523281 -1.036014  3  2  3  1     1.073325\n",
       "7  1.307186  1.046897 -0.183449 -0.345429  0.909816  3  3  1  2     0.827765\n",
       "8 -0.778978  1.544327 -0.855694  0.384111 -0.111190  3  1  2  3     0.012363"
      ]
     },
     "execution_count": 114,
     "metadata": {},
     "output_type": "execute_result"
    }
   ],
   "source": [
    "dfPCA"
   ]
  },
  {
   "cell_type": "code",
   "execution_count": 115,
   "metadata": {},
   "outputs": [],
   "source": [
    "dfPCA['A'] = [1,1,1,2,2,2,3,3,3]\n",
    "dfPCA['B'] = [1,2,3,3,1,2,2,3,1]\n",
    "dfPCA['C'] = [1,2,3,2,3,1,3,1,2]\n",
    "dfPCA['D'] = [1,2,3,1,2,3,1,2,3]"
   ]
  },
  {
   "cell_type": "code",
   "execution_count": 78,
   "metadata": {},
   "outputs": [
    {
     "data": {
      "text/html": [
       "<div>\n",
       "<style scoped>\n",
       "    .dataframe tbody tr th:only-of-type {\n",
       "        vertical-align: middle;\n",
       "    }\n",
       "\n",
       "    .dataframe tbody tr th {\n",
       "        vertical-align: top;\n",
       "    }\n",
       "\n",
       "    .dataframe thead th {\n",
       "        text-align: right;\n",
       "    }\n",
       "</style>\n",
       "<table border=\"1\" class=\"dataframe\">\n",
       "  <thead>\n",
       "    <tr style=\"text-align: right;\">\n",
       "      <th></th>\n",
       "      <th>level1</th>\n",
       "      <th>level2</th>\n",
       "      <th>level3</th>\n",
       "    </tr>\n",
       "  </thead>\n",
       "  <tbody>\n",
       "    <tr>\n",
       "      <th>A</th>\n",
       "      <td>0.127774</td>\n",
       "      <td>-0.048645</td>\n",
       "      <td>-0.079129</td>\n",
       "    </tr>\n",
       "    <tr>\n",
       "      <th>B</th>\n",
       "      <td>0.075934</td>\n",
       "      <td>-0.097158</td>\n",
       "      <td>0.021224</td>\n",
       "    </tr>\n",
       "    <tr>\n",
       "      <th>C</th>\n",
       "      <td>-0.055774</td>\n",
       "      <td>0.045624</td>\n",
       "      <td>0.010150</td>\n",
       "    </tr>\n",
       "    <tr>\n",
       "      <th>D</th>\n",
       "      <td>-0.869877</td>\n",
       "      <td>1.023495</td>\n",
       "      <td>-0.153618</td>\n",
       "    </tr>\n",
       "  </tbody>\n",
       "</table>\n",
       "</div>"
      ],
      "text/plain": [
       "     level1    level2    level3\n",
       "A  0.127774 -0.048645 -0.079129\n",
       "B  0.075934 -0.097158  0.021224\n",
       "C -0.055774  0.045624  0.010150\n",
       "D -0.869877  1.023495 -0.153618"
      ]
     },
     "execution_count": 78,
     "metadata": {},
     "output_type": "execute_result"
    }
   ],
   "source": [
    "seA = dfPCA.groupby(\"A\").SN.mean()#負號因為PCA預設的特徵向量會是負向，也就是主成分軸的方向是負向\n",
    "dfPCA_AA = seA.to_frame()\n",
    "dfPCA_A = dfPCA_AA.T\n",
    "dfPCA_A.columns = ['level1', 'level2', 'level3']\n",
    "dfPCA_A.index = ['A']\n",
    "##\n",
    "seB = dfPCA.groupby(\"B\").SN.mean()\n",
    "dfPCA_BB = seB.to_frame()\n",
    "dfPCA_B = dfPCA_BB.T\n",
    "dfPCA_B.columns = ['level1', 'level2', 'level3']\n",
    "dfPCA_B.index = ['B']\n",
    "##\n",
    "seC = dfPCA.groupby(\"C\").SN.mean()\n",
    "dfPCA_CC = seC.to_frame()\n",
    "dfPCA_C = dfPCA_CC.T\n",
    "dfPCA_C.columns = ['level1', 'level2', 'level3']\n",
    "dfPCA_C.index = ['C']\n",
    "##\n",
    "seD = dfPCA.groupby(\"D\").SN.mean()\n",
    "dfPCA_DD = seD.to_frame()\n",
    "dfPCA_D = dfPCA_DD.T\n",
    "dfPCA_D.columns = ['level1', 'level2', 'level3']\n",
    "dfPCA_D.index = ['D']\n",
    "ANOVAPCA = pd.concat([dfPCA_A, dfPCA_B, dfPCA_C, dfPCA_D],axis = 0)#如果主成分軸的方向為負向，需加負號轉正。\n",
    "ANOVAPCA\n"
   ]
  },
  {
   "cell_type": "code",
   "execution_count": 79,
   "metadata": {
    "scrolled": true
   },
   "outputs": [
    {
     "data": {
      "image/png": "[encoded data removed]",
      "text/plain": [
       "<Figure size 1080x288 with 4 Axes>"
      ]
     },
     "metadata": {
      "needs_background": "light"
     },
     "output_type": "display_data"
    }
   ],
   "source": [
    "#ANOVAPCA.to_excel(r'A:\\Users\\E2118\\Documents\\鄭景元\\3D\\python\\PCA_回應表n.xlsx')\n",
    "ANOVAPCApic = ANOVAPCA.T.plot(kind='line',ylim=(-2,2),subplots=True,figsize = (15,4),layout=(1,4),sharey=True,xticks=[0,1,2],fontsize=18)"
   ]
  },
  {
   "cell_type": "code",
   "execution_count": 80,
   "metadata": {},
   "outputs": [
    {
     "data": {
      "text/plain": [
       "8.897203961232158e-16"
      ]
     },
     "execution_count": 80,
     "metadata": {},
     "output_type": "execute_result"
    }
   ],
   "source": [
    "MPCA = dfPCA.loc[:,'SN'].mean()\n",
    "MPCA"
   ]
  },
  {
   "cell_type": "code",
   "execution_count": 81,
   "metadata": {},
   "outputs": [
    {
     "data": {
      "text/html": [
       "<div>\n",
       "<style scoped>\n",
       "    .dataframe tbody tr th:only-of-type {\n",
       "        vertical-align: middle;\n",
       "    }\n",
       "\n",
       "    .dataframe tbody tr th {\n",
       "        vertical-align: top;\n",
       "    }\n",
       "\n",
       "    .dataframe thead th {\n",
       "        text-align: right;\n",
       "    }\n",
       "</style>\n",
       "<table border=\"1\" class=\"dataframe\">\n",
       "  <thead>\n",
       "    <tr style=\"text-align: right;\">\n",
       "      <th></th>\n",
       "      <th>level1</th>\n",
       "      <th>level2</th>\n",
       "      <th>level3</th>\n",
       "      <th>max</th>\n",
       "    </tr>\n",
       "  </thead>\n",
       "  <tbody>\n",
       "    <tr>\n",
       "      <th>A</th>\n",
       "      <td>0.127774</td>\n",
       "      <td>-0.048645</td>\n",
       "      <td>-0.079129</td>\n",
       "      <td>0.127774</td>\n",
       "    </tr>\n",
       "    <tr>\n",
       "      <th>B</th>\n",
       "      <td>0.075934</td>\n",
       "      <td>-0.097158</td>\n",
       "      <td>0.021224</td>\n",
       "      <td>0.075934</td>\n",
       "    </tr>\n",
       "    <tr>\n",
       "      <th>C</th>\n",
       "      <td>-0.055774</td>\n",
       "      <td>0.045624</td>\n",
       "      <td>0.010150</td>\n",
       "      <td>0.045624</td>\n",
       "    </tr>\n",
       "    <tr>\n",
       "      <th>D</th>\n",
       "      <td>-0.869877</td>\n",
       "      <td>1.023495</td>\n",
       "      <td>-0.153618</td>\n",
       "      <td>1.023495</td>\n",
       "    </tr>\n",
       "  </tbody>\n",
       "</table>\n",
       "</div>"
      ],
      "text/plain": [
       "     level1    level2    level3       max\n",
       "A  0.127774 -0.048645 -0.079129  0.127774\n",
       "B  0.075934 -0.097158  0.021224  0.075934\n",
       "C -0.055774  0.045624  0.010150  0.045624\n",
       "D -0.869877  1.023495 -0.153618  1.023495"
      ]
     },
     "execution_count": 81,
     "metadata": {},
     "output_type": "execute_result"
    }
   ],
   "source": [
    "ANOVAPCA['max'] =ANOVAPCA.max(axis = 1)\n",
    "ANOVAPCA"
   ]
  },
  {
   "cell_type": "code",
   "execution_count": 82,
   "metadata": {},
   "outputs": [],
   "source": [
    "seANOVAPCA = ANOVAPCA.loc[:,'max']\n",
    "dfANOVAPCA = seANOVAPCA.to_frame()\n",
    "dfANOVAPCA.T\n",
    "APCA_max = dfANOVAPCA.T.loc['max','A']\n",
    "BPCA_max = dfANOVAPCA.T.loc['max','B']\n",
    "CPCA_max = dfANOVAPCA.T.loc['max','C']\n",
    "DPCA_max = dfANOVAPCA.T.loc['max','D']"
   ]
  },
  {
   "cell_type": "code",
   "execution_count": 83,
   "metadata": {},
   "outputs": [
    {
     "data": {
      "text/html": [
       "<div>\n",
       "<style scoped>\n",
       "    .dataframe tbody tr th:only-of-type {\n",
       "        vertical-align: middle;\n",
       "    }\n",
       "\n",
       "    .dataframe tbody tr th {\n",
       "        vertical-align: top;\n",
       "    }\n",
       "\n",
       "    .dataframe thead th {\n",
       "        text-align: right;\n",
       "    }\n",
       "</style>\n",
       "<table border=\"1\" class=\"dataframe\">\n",
       "  <thead>\n",
       "    <tr style=\"text-align: right;\">\n",
       "      <th></th>\n",
       "      <th>level1</th>\n",
       "      <th>level2</th>\n",
       "      <th>level3</th>\n",
       "      <th>Mean square</th>\n",
       "      <th>F</th>\n",
       "      <th>Contribution(%)</th>\n",
       "    </tr>\n",
       "  </thead>\n",
       "  <tbody>\n",
       "    <tr>\n",
       "      <th>A</th>\n",
       "      <td>0.127774</td>\n",
       "      <td>-0.048645</td>\n",
       "      <td>-0.079129</td>\n",
       "      <td>0.074862</td>\n",
       "      <td>4.712452</td>\n",
       "      <td>1.331779</td>\n",
       "    </tr>\n",
       "    <tr>\n",
       "      <th>B</th>\n",
       "      <td>0.075934</td>\n",
       "      <td>-0.097158</td>\n",
       "      <td>0.021224</td>\n",
       "      <td>0.046968</td>\n",
       "      <td>2.956563</td>\n",
       "      <td>0.835550</td>\n",
       "    </tr>\n",
       "    <tr>\n",
       "      <th>C</th>\n",
       "      <td>-0.055774</td>\n",
       "      <td>0.045624</td>\n",
       "      <td>0.010150</td>\n",
       "      <td>0.015886</td>\n",
       "      <td>1.000000</td>\n",
       "      <td>0.282609</td>\n",
       "    </tr>\n",
       "    <tr>\n",
       "      <th>D</th>\n",
       "      <td>-0.869877</td>\n",
       "      <td>1.023495</td>\n",
       "      <td>-0.153618</td>\n",
       "      <td>5.483481</td>\n",
       "      <td>345.177358</td>\n",
       "      <td>97.550063</td>\n",
       "    </tr>\n",
       "  </tbody>\n",
       "</table>\n",
       "</div>"
      ],
      "text/plain": [
       "     level1    level2    level3  Mean square           F  Contribution(%)\n",
       "A  0.127774 -0.048645 -0.079129     0.074862    4.712452         1.331779\n",
       "B  0.075934 -0.097158  0.021224     0.046968    2.956563         0.835550\n",
       "C -0.055774  0.045624  0.010150     0.015886    1.000000         0.282609\n",
       "D -0.869877  1.023495 -0.153618     5.483481  345.177358        97.550063"
      ]
     },
     "execution_count": 83,
     "metadata": {},
     "output_type": "execute_result"
    }
   ],
   "source": [
    "dfPCA['Mean square'] = (dfPCA['SN']-MPCA)**2\n",
    "meanSQ =  dfPCA.loc[:,'Mean square'].sum()\n",
    "meanSQ\n",
    "ANOVAPCA = ANOVAPCA.drop('max',axis = 1)\n",
    "MA = ANOVAPCA.loc['A','level1':'level3'].mean()\n",
    "MB = ANOVAPCA.loc['B','level1':'level3'].mean()\n",
    "MC = ANOVAPCA.loc['C','level1':'level3'].mean()\n",
    "MD = ANOVAPCA.loc['D','level1':'level3'].mean()\n",
    "\n",
    "ANOVAPCA.loc['A','Mean square'] = 3*(ANOVAPCA.loc['A','level1']-MA)**2 + 3*(ANOVAPCA.loc['A','level2']-MA)**2 + 3*(ANOVAPCA.loc['A','level3']-MA)**2\n",
    "ANOVAPCA.loc['B','Mean square'] = 3*(ANOVAPCA.loc['B','level1']-MB)**2 + 3*(ANOVAPCA.loc['B','level2']-MB)**2 + 3*(ANOVAPCA.loc['B','level3']-MB)**2\n",
    "ANOVAPCA.loc['C','Mean square'] = 3*(ANOVAPCA.loc['C','level1']-MC)**2 + 3*(ANOVAPCA.loc['C','level2']-MC)**2 + 3*(ANOVAPCA.loc['C','level3']-MC)**2\n",
    "ANOVAPCA.loc['D','Mean square'] = 3*(ANOVAPCA.loc['D','level1']-MD)**2 + 3*(ANOVAPCA.loc['D','level2']-MD)**2 + 3*(ANOVAPCA.loc['D','level3']-MD)**2\n",
    "\n",
    "RPCA = ANOVAPCA.loc['C','Mean square']\n",
    "ANOVAPCA['F'] = ANOVAPCA.apply(lambda x:(x['Mean square']/2)/(RPCA/2),axis = 1)\n",
    "\n",
    "ANOVAPCA['Contribution(%)'] = ANOVAPCA.apply(lambda x:x['Mean square']/meanSQ*100,axis = 1)\n",
    "ANOVAPCA.to_excel(r'A:\\Users\\E2118\\Documents\\鄭景元\\3D\\python\\L9_回應表\\PCA回應表n.xlsx')\n",
    "ANOVAPCA\n"
   ]
  },
  {
   "cell_type": "code",
   "execution_count": 84,
   "metadata": {
    "scrolled": true
   },
   "outputs": [
    {
     "data": {
      "text/plain": [
       "1.2728272015858935"
      ]
     },
     "execution_count": 84,
     "metadata": {},
     "output_type": "execute_result"
    }
   ],
   "source": [
    "#最佳的訊雜比后取log\n",
    "bestSNPCA = MPCA + (APCA_max - MPCA) + (BPCA_max - MPCA) + (CPCA_max - MPCA) +(DPCA_max - MPCA)\n",
    "bestPCA = (1/(10**(bestSNPCA/-10)))**(0.5)\n",
    "bestSNPCA\n"
   ]
  },
  {
   "cell_type": "code",
   "execution_count": 85,
   "metadata": {},
   "outputs": [],
   "source": [
    "#impact energy 量測值\n",
    "IM1 = 82.237192\n",
    "IM2 = 79.40842906\n",
    "IM3 = 82.237192\n",
    "#降低幅度\n",
    "IM = -10*math.log10((1/(IM1)**2 + 1/(IM2)**2 + 1/(IM3)**2)/3)\n",
    "# Tensile Strength 量測值\n",
    "UT1 = 1183.5127\n",
    "UT2 = 1189.8499\n",
    "UT3 = 1181.5375\n",
    "UT = -10*math.log10((1/(UT1)**2 + 1/(UT2)**2 + 1/(UT3)**2)/3)\n",
    "# Elongation (%) 量測值\n",
    "EL1 = 27.4003\n",
    "EL2 = 21.1769\n",
    "EL3 = 24.4639\n",
    "EL = -10*math.log10((1/(EL1)**2 + 1/(EL2)**2 + 1/(EL3)**2)/3)\n",
    "#硬度 量測值\n",
    "HD1 = 32.5\n",
    "HD2 = 31.9\n",
    "HD3 = 31.6\n",
    "HD = -10*math.log10((1/(HD1)**2 + 1/(HD2)**2 + 1/(HD3)**2)/3)"
   ]
  },
  {
   "cell_type": "code",
   "execution_count": 86,
   "metadata": {},
   "outputs": [
    {
     "data": {
      "text/plain": [
       "[[38.197638019276106,\n",
       "  61.47400650889015,\n",
       "  27.58395819533959,\n",
       "  30.101228640858622]]"
      ]
     },
     "execution_count": 86,
     "metadata": {},
     "output_type": "execute_result"
    }
   ],
   "source": [
    "BEST = [[IM,UT,EL,HD]\n",
    "       ]\n",
    "BEST"
   ]
  },
  {
   "cell_type": "code",
   "execution_count": 87,
   "metadata": {},
   "outputs": [
    {
     "data": {
      "text/plain": [
       "array([0.50093698, 0.28421328, 0.19552697, 0.01932277])"
      ]
     },
     "execution_count": 87,
     "metadata": {},
     "output_type": "execute_result"
    }
   ],
   "source": [
    "#四種成分的 VARIANCE RATIO\n",
    "PP = numpy.array([P1,P2,P3,P4])\n",
    "PP = PP.transpose()\n",
    "\n",
    "PP"
   ]
  },
  {
   "cell_type": "code",
   "execution_count": 88,
   "metadata": {},
   "outputs": [
    {
     "data": {
      "text/plain": [
       "array([[1.53263768, 1.19693116, 1.52726296, 0.98188416]])"
      ]
     },
     "execution_count": 88,
     "metadata": {},
     "output_type": "execute_result"
    }
   ],
   "source": [
    "#正規化\n",
    "BEST = scaler.transform(BEST)\n",
    "#BEST 與 Y 內積\n",
    "BEPCA=numpy.dot(BEST,Y)\n",
    "#四組最佳化的訊雜比乘上主成分 的組合\n",
    "BEPCA"
   ]
  },
  {
   "cell_type": "code",
   "execution_count": 89,
   "metadata": {},
   "outputs": [
    {
     "data": {
      "text/plain": [
       "array([1.42553244])"
      ]
     },
     "execution_count": 89,
     "metadata": {},
     "output_type": "execute_result"
    }
   ],
   "source": [
    "#主成分與VARIANCE內積後再內積\n",
    "STfactor = numpy.dot(BEPCA,PP)#1.52256507\n",
    "STfactor\n"
   ]
  },
  {
   "cell_type": "code",
   "execution_count": 90,
   "metadata": {},
   "outputs": [
    {
     "name": "stdout",
     "output_type": "stream",
     "text": [
      "0.6788882858470126 0.7839126691669126\n"
     ]
    },
    {
     "data": {
      "text/plain": [
       "0.11997326756046832"
      ]
     },
     "execution_count": 90,
     "metadata": {},
     "output_type": "execute_result"
    }
   ],
   "source": [
    "e = 1.42553244 \n",
    "R = abs( (e - bestSNPCA)/bestSNPCA )\n",
    "CIp = abs(-1.96*(R)**(0.5))\n",
    "\n",
    "CIe = abs(-1.96*((R)**(0.5))*((1+1/3)**(0.5)))\n",
    "print(CIp,CIe)\n",
    "R"
   ]
  },
  {
   "cell_type": "code",
   "execution_count": 91,
   "metadata": {},
   "outputs": [
    {
     "data": {
      "image/png": "[encoded data removed]",
      "text/plain": [
       "<Figure size 432x288 with 1 Axes>"
      ]
     },
     "metadata": {
      "needs_background": "light"
     },
     "output_type": "display_data"
    }
   ],
   "source": [
    "ind = numpy.arange(2)\n",
    "\n",
    "lowbar = -2 # x軸底線位置\n",
    "plt.barh(1,0,left  = lowbar,height= 0.3)\n",
    "plt.barh(4,0,left  = lowbar,height= 0.3)\n",
    "pr = plt.barh(3, bestSNPCA-lowbar,  xerr = CIp,capsize = 10,left  = lowbar,height = 0.8,label =  'Prediction',tick_label='')\n",
    "ex = plt.barh(2, e-lowbar,  xerr = CIe,capsize = 10,left  = lowbar,height = 0.8,label =  'Experiment',align='center')\n",
    "\n",
    "plt.suptitle('Multiple Properties Optimization \\n with Confidence Interval', fontsize=18,y=1.04, fontweight='bold')\n",
    "\n",
    "plt.xlabel('Strength Index',fontsize=15)\n",
    "plt.xticks(fontsize=15)\n",
    "plt.legend(loc = 0,fontsize=14)\n",
    "\n",
    "\n",
    "plt.show()"
   ]
  },
  {
   "cell_type": "code",
   "execution_count": 43,
   "metadata": {},
   "outputs": [],
   "source": [
    "#array"
   ]
  },
  {
   "cell_type": "code",
   "execution_count": 95,
   "metadata": {},
   "outputs": [
    {
     "data": {
      "text/plain": [
       "0.44700000000000006"
      ]
     },
     "execution_count": 95,
     "metadata": {},
     "output_type": "execute_result"
    }
   ],
   "source": [
    "#best3real = scaler.inverse_transform(best3)\n",
    "-0.625+0.403+0.669"
   ]
  },
  {
   "cell_type": "code",
   "execution_count": 45,
   "metadata": {},
   "outputs": [],
   "source": [
    "#df3.to_excel(r'A:\\Users\\E2118\\Documents\\鄭景元\\3D\\python\\PCA_硬度密度.xls')"
   ]
  },
  {
   "cell_type": "code",
   "execution_count": 94,
   "metadata": {},
   "outputs": [
    {
     "data": {
      "text/plain": [
       "1.0"
      ]
     },
     "execution_count": 94,
     "metadata": {},
     "output_type": "execute_result"
    }
   ],
   "source": [
    "0.434294395+0.316778274+0.248927331"
   ]
  }
 ],
 "metadata": {
  "kernelspec": {
   "display_name": "Python 3",
   "language": "python",
   "name": "python3"
  },
  "language_info": {
   "codemirror_mode": {
    "name": "ipython",
    "version": 3
   },
   "file_extension": ".py",
   "mimetype": "text/x-python",
   "name": "python",
   "nbconvert_exporter": "python",
   "pygments_lexer": "ipython3",
   "version": "3.7.0"
  }
 },
 "nbformat": 4,
 "nbformat_minor": 2
}
